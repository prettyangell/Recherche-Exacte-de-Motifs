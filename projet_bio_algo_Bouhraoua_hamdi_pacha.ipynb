{
  "nbformat": 4,
  "nbformat_minor": 0,
  "metadata": {
    "colab": {
      "provenance": [],
      "collapsed_sections": [
        "3rWyKhir2DOK",
        "RT0kvbaUz9kl",
        "uGrtRy1bmZHy",
        "K6ZLPgUsh0BF",
        "zViDDz5dhppp",
        "uvp_Hkbsh-YI",
        "JzMv5Jho24Eu",
        "vK5cJO7T_STc",
        "SucE4kdoplca"
      ],
      "toc_visible": true,
      "authorship_tag": "ABX9TyNK3Az67SMVMqJE13dm/2aH",
      "include_colab_link": true
    },
    "kernelspec": {
      "name": "python3",
      "display_name": "Python 3"
    },
    "language_info": {
      "name": "python"
    }
  },
  "cells": [
    {
      "cell_type": "markdown",
      "metadata": {
        "id": "view-in-github",
        "colab_type": "text"
      },
      "source": [
        "<a href=\"https://colab.research.google.com/github/prettyangell/Recherche-Exacte-de-Motifs/blob/main/projet_bio_algo_Bouhraoua_hamdi_pacha.ipynb\" target=\"_parent\"><img src=\"https://colab.research.google.com/assets/colab-badge.svg\" alt=\"Open In Colab\"/></a>"
      ]
    },
    {
      "cell_type": "markdown",
      "source": [
        "Les imports"
      ],
      "metadata": {
        "id": "u1UiGffV3MlY"
      }
    },
    {
      "cell_type": "code",
      "source": [
        "from pprint import pprint\n",
        "import random\n",
        "import pandas as pd\n",
        "import os.path\n",
        "import csv\n",
        "import time\n",
        "import sys\n",
        "import matplotlib.pyplot as plt"
      ],
      "metadata": {
        "id": "YkvFvssG0XLJ"
      },
      "execution_count": null,
      "outputs": []
    },
    {
      "cell_type": "markdown",
      "source": [
        "# Algorithme naif\n",
        "parcours tout le texte en faisant glisser la fenetre caractère par caractère"
      ],
      "metadata": {
        "id": "3rWyKhir2DOK"
      }
    },
    {
      "cell_type": "code",
      "source": [
        "def naive_search(text, pattern):\n",
        "    comp=0\n",
        "    n = len(text)\n",
        "    m = len(pattern)\n",
        "    for i in range(n - m + 1):\n",
        "        match = True\n",
        "        for j in range(m):\n",
        "            comp+=1\n",
        "            if text[i+j] != pattern[j]:\n",
        "                match = False\n",
        "                break\n",
        "        if match:\n",
        "            return i,comp"
      ],
      "metadata": {
        "id": "DJtnFPwN2C9N"
      },
      "execution_count": null,
      "outputs": []
    },
    {
      "cell_type": "markdown",
      "source": [
        "# Boyer More"
      ],
      "metadata": {
        "id": "RT0kvbaUz9kl"
      }
    },
    {
      "cell_type": "markdown",
      "source": [
        "## Algorithmes"
      ],
      "metadata": {
        "id": "jFsnwBJo1_Tz"
      }
    },
    {
      "cell_type": "markdown",
      "source": [
        "### fonction de construction de dictionnaire"
      ],
      "metadata": {
        "id": "v__iwmlN0Hwa"
      }
    },
    {
      "cell_type": "code",
      "source": [
        "def const_dic(motif):\n",
        "    m=len(motif)\n",
        "    d={}\n",
        "    alpha=set(motif)\n",
        "    max_index={x:-1 for x in alpha}\n",
        "    for i in range(m):\n",
        "        for k in alpha:\n",
        "            d[(i,k)]=max_index[k]\n",
        "        max_index[motif[i]]=i\n",
        "    return d,alpha\n"
      ],
      "metadata": {
        "id": "5hw1Nx4h0SKM"
      },
      "execution_count": null,
      "outputs": []
    },
    {
      "cell_type": "code",
      "source": [
        "# Exemple d'utilisation\n",
        "pprint(const_dic(\"ATCATGAG\"))"
      ],
      "metadata": {
        "colab": {
          "base_uri": "https://localhost:8080/"
        },
        "id": "Qk-HuRls3UcI",
        "outputId": "4f31ad46-fb59-48d2-b7de-5aa98410c443"
      },
      "execution_count": null,
      "outputs": [
        {
          "output_type": "stream",
          "name": "stdout",
          "text": [
            "({(0, 'A'): -1,\n",
            "  (0, 'C'): -1,\n",
            "  (0, 'G'): -1,\n",
            "  (0, 'T'): -1,\n",
            "  (1, 'A'): 0,\n",
            "  (1, 'C'): -1,\n",
            "  (1, 'G'): -1,\n",
            "  (1, 'T'): -1,\n",
            "  (2, 'A'): 0,\n",
            "  (2, 'C'): -1,\n",
            "  (2, 'G'): -1,\n",
            "  (2, 'T'): 1,\n",
            "  (3, 'A'): 0,\n",
            "  (3, 'C'): 2,\n",
            "  (3, 'G'): -1,\n",
            "  (3, 'T'): 1,\n",
            "  (4, 'A'): 3,\n",
            "  (4, 'C'): 2,\n",
            "  (4, 'G'): -1,\n",
            "  (4, 'T'): 1,\n",
            "  (5, 'A'): 3,\n",
            "  (5, 'C'): 2,\n",
            "  (5, 'G'): -1,\n",
            "  (5, 'T'): 4,\n",
            "  (6, 'A'): 3,\n",
            "  (6, 'C'): 2,\n",
            "  (6, 'G'): 5,\n",
            "  (6, 'T'): 4,\n",
            "  (7, 'A'): 6,\n",
            "  (7, 'C'): 2,\n",
            "  (7, 'G'): 5,\n",
            "  (7, 'T'): 4},\n",
            " {'T', 'A', 'C', 'G'})\n"
          ]
        }
      ]
    },
    {
      "cell_type": "markdown",
      "source": [
        "###fonction de décalage"
      ],
      "metadata": {
        "id": "cBF4dyG71nTW"
      }
    },
    {
      "cell_type": "code",
      "source": [
        "def decalage(alpha,d,j,c):\n",
        "    if c in alpha:\n",
        "        return j-d[(j,c)]\n",
        "    else:\n",
        "        return j+1"
      ],
      "metadata": {
        "id": "yjvYV5_71sv9"
      },
      "execution_count": null,
      "outputs": []
    },
    {
      "cell_type": "markdown",
      "source": [
        "### fonction de recherche"
      ],
      "metadata": {
        "id": "2ZModdPg0qOY"
      }
    },
    {
      "cell_type": "code",
      "source": [
        "def Boyer_Moore(text: str,motif: str):\n",
        "    m=len(motif)\n",
        "    n=len(text)\n",
        "\n",
        "    # Etape 1: construction de dictionnaire\n",
        "    d,alpha=const_dic(motif)\n",
        "\n",
        "    i = 0\n",
        "    n_comp=0\n",
        "    while i <= n - m :\n",
        "        k = 0\n",
        "        j = m - 1\n",
        "        while j >= 0:\n",
        "            n_comp+=1\n",
        "            # print(text[i+j],i+j,motif[j],j)\n",
        "            if text[i + j] != motif[j]:\n",
        "                k = decalage(alpha,d, j, text[j+i])\n",
        "                break\n",
        "            if j==0:\n",
        "                return i,n_comp,d\n",
        "            j -= 1\n",
        "        i += k\n",
        "    return None"
      ],
      "metadata": {
        "id": "MclhYBzj05lq"
      },
      "execution_count": null,
      "outputs": []
    },
    {
      "cell_type": "code",
      "source": [
        "# Exemple d'utilisation\n",
        "text = \"stupid_spring_string\"\n",
        "pattern=\"string\"\n",
        "res,comp,_=Boyer_Moore(text,pattern)\n",
        "print(\"Positions des occurrences:\", res)\n",
        "print(\"Nombre de comparaisons effectuées:\", comp)"
      ],
      "metadata": {
        "colab": {
          "base_uri": "https://localhost:8080/"
        },
        "id": "X74FxpY23Zer",
        "outputId": "d7c4c35b-a47b-4d5a-c4d8-1cf363dee411"
      },
      "execution_count": null,
      "outputs": [
        {
          "output_type": "stream",
          "name": "stdout",
          "text": [
            "Positions des occurrences: 14\n",
            "Nombre de comparaisons effectuées: 14\n"
          ]
        }
      ]
    },
    {
      "cell_type": "markdown",
      "source": [
        "# Rabin karp"
      ],
      "metadata": {
        "id": "uGrtRy1bmZHy"
      }
    },
    {
      "cell_type": "markdown",
      "source": [
        "fonctions communes"
      ],
      "metadata": {
        "id": "q6jIIfs1nd-w"
      }
    },
    {
      "cell_type": "code",
      "source": [
        "def hash(s, b, q):\n",
        "    # Fonction de hachage\n",
        "    h = 0\n",
        "    for char in s:\n",
        "        h=h*b+ord(char)\n",
        "\n",
        "    return h%q\n",
        "\n",
        "def rehash(old_char, new_char, old_hash, b, q, length):\n",
        "    # Recalcul du hachage pour la nouvelle fenêtre\n",
        "    old_char_val = ord(old_char)\n",
        "    new_char_val = ord(new_char)\n",
        "    h = (old_hash-(old_char_val*(b**(length-1))))*b+new_char_val\n",
        "    return h % q"
      ],
      "metadata": {
        "id": "jzYHd_lznjBU"
      },
      "execution_count": null,
      "outputs": []
    },
    {
      "cell_type": "markdown",
      "source": [
        "## Avec une fonction de hashage (sans filtre de bloom)"
      ],
      "metadata": {
        "id": "8omAy5jMmzlU"
      }
    },
    {
      "cell_type": "code",
      "source": [
        "def rabin_karp(text, motifs, b, q):\n",
        "    # Vérification des tailles des motifs\n",
        "    motif_length = len(motifs[0])\n",
        "    for motif in motifs[1:]:\n",
        "        if len(motif) != motif_length:\n",
        "            raise ValueError(\"Les motifs doivent avoir la même taille\")\n",
        "\n",
        "    positions = {}\n",
        "    comparisons = 0\n",
        "    faux_pos=0\n",
        "    n = len(text)\n",
        "\n",
        "    # Calculer les hachages pour chaque motif\n",
        "    motif_hashes = {motif: hash(motif, b, q) for motif in motifs}\n",
        "    # Calculer le hachage du texte pour la première fenêtre\n",
        "    ht = hash(text[:motif_length], b, q)\n",
        "    # Parcourir le texte en calculant le hachage de chaque fenêtre et le comparer avec les hachages des motifs\n",
        "    for i in range(n - motif_length+1):\n",
        "        for motif, hm in motif_hashes.items():\n",
        "            if hm == ht:\n",
        "                match = True\n",
        "                for j in range(motif_length):\n",
        "                    comparisons += 1\n",
        "                    if text[i+j] != motif[j]:\n",
        "                        match = False\n",
        "                        break\n",
        "                if match:\n",
        "                    positions[motif] = [i] # Correspondance trouvée\n",
        "                    break\n",
        "                else:\n",
        "                  faux_pos+=1\n",
        "\n",
        "        if i < n - motif_length:\n",
        "            # Recalcul du hachage pour la prochaine fenêtre\n",
        "            ht = rehash(text[i], text[i+motif_length], ht, b, q, motif_length)\n",
        "\n",
        "    return positions, comparisons,faux_pos\n",
        "\n"
      ],
      "metadata": {
        "id": "J2E4svExmu--"
      },
      "execution_count": null,
      "outputs": []
    },
    {
      "cell_type": "code",
      "source": [
        "# Exemple d'utilisation\n",
        "text = \"stupid_spring_string\"\n",
        "patterns = [\"stupid\",\"string\"]\n",
        "b = 10  # Base\n",
        "q = 11   # Nombre approprié\n",
        "res,comp,faux_pos=rabin_karp(text,patterns,b,q)\n",
        "print(\"Positions des occurrences:\", res)\n",
        "print(\"Nombre de comparaisons effectuées:\", comp)\n",
        "print(f\"faux positif:{faux_pos}\")"
      ],
      "metadata": {
        "colab": {
          "base_uri": "https://localhost:8080/"
        },
        "id": "X-QvTd1Iowz_",
        "outputId": "1fcf3cd3-a836-4f40-a71c-bceb106f4649"
      },
      "execution_count": null,
      "outputs": [
        {
          "output_type": "stream",
          "name": "stdout",
          "text": [
            "Positions des occurrences: {'stupid': [0], 'string': [14]}\n",
            "Nombre de comparaisons effectuées: 13\n",
            "faux positif:1\n"
          ]
        }
      ]
    },
    {
      "cell_type": "markdown",
      "source": [
        "## Avec 3 fonctions de hashage (avec filtre de bloom)"
      ],
      "metadata": {
        "id": "9BNWsnrb1719"
      }
    },
    {
      "cell_type": "code",
      "source": [
        "def rabin_karp_bloom(text, motifs, hash_functions):\n",
        "    # Vérification des tailles des motifs\n",
        "    motif_length = len(motifs[0])\n",
        "    for motif in motifs[1:]:\n",
        "        if len(motif) != motif_length:\n",
        "            raise ValueError(\"Les motifs doivent avoir la même taille\")\n",
        "\n",
        "    positions = {}\n",
        "    comparisons = 0\n",
        "    faux_pos=0\n",
        "    n = len(text)\n",
        "\n",
        "    # Initialisation du vecteur bloom\n",
        "    bloom = {}\n",
        "\n",
        "    # Calculer les hachages pour chaque motif avec chaque fonction de hachage\n",
        "    for motif in motifs:\n",
        "        bloom[motif] = [hash(motif, b, q) for b, q in hash_functions]\n",
        "\n",
        "\n",
        "    # Parcourir le texte\n",
        "    for i in range(n - motif_length + 1):\n",
        "        # Calculer le hachage de la fenêtre actuelle\n",
        "        current_hashes = [hash(text[i:i+motif_length], b, q) for b, q in hash_functions]\n",
        "        # Vérifier si le hachage de la fenêtre actuelle correspond à l'un des hachages des motifs\n",
        "        for motif in motifs:\n",
        "            if all(ht == ch for ht, ch in zip(bloom[motif], current_hashes)):\n",
        "                # Vérifier la correspondance caractère par caractère\n",
        "                match = True\n",
        "                for j in range(motif_length):\n",
        "                    comparisons += 1\n",
        "                    if text[i+j] != motif[j]:\n",
        "                        match = False\n",
        "                        break\n",
        "                if match:\n",
        "                    if motif not in positions:\n",
        "                        positions[motif] = [i]\n",
        "                    else:\n",
        "                        positions[motif].append(i)   # Correspondance trouvée\n",
        "                else:\n",
        "                  faux_pos+=1\n",
        "\n",
        "\n",
        "    return positions, comparisons,faux_pos\n"
      ],
      "metadata": {
        "id": "GYrT5yin2Dwa"
      },
      "execution_count": null,
      "outputs": []
    },
    {
      "cell_type": "markdown",
      "source": [
        "Exemple"
      ],
      "metadata": {
        "id": "XcDM8ujb4Gde"
      }
    },
    {
      "cell_type": "code",
      "source": [
        "# Exemple d'utilisation\n",
        "\n",
        "text = \"ABABDABACDABABCABAB\"\n",
        "motifs = [\"AB\", \"CA\"]\n",
        "hash_functions = [(257, 101), (263, 103)]\n",
        "positions, comparisons,faux_pos= rabin_karp_bloom(text, motifs, hash_functions)\n",
        "print(\"Positions:\", positions)\n",
        "print(\"Comparisons:\", comparisons)\n",
        "print(f\"Faux positifs:{faux_pos}\")"
      ],
      "metadata": {
        "colab": {
          "base_uri": "https://localhost:8080/"
        },
        "id": "qAAY-5nc3-Tl",
        "outputId": "6f2c8804-b2a9-4f9e-bffb-8b04384dd93a"
      },
      "execution_count": null,
      "outputs": [
        {
          "output_type": "stream",
          "name": "stdout",
          "text": [
            "Positions: {'AB': [0, 2, 5, 10, 12, 15, 17], 'CA': [14]}\n",
            "Comparisons: 16\n",
            "Faux positifs:0\n"
          ]
        }
      ]
    },
    {
      "cell_type": "markdown",
      "metadata": {
        "id": "OjTcY0Wgh6o7"
      },
      "source": [
        "# Aho Corasik\n"
      ]
    },
    {
      "cell_type": "markdown",
      "metadata": {
        "id": "K6ZLPgUsh0BF"
      },
      "source": [
        "##Table des  préfixes"
      ]
    },
    {
      "cell_type": "code",
      "metadata": {
        "id": "x5GZkwmFDl-Q"
      },
      "source": [
        "from typing import List\n",
        "def prefm(M:List[str]):\n",
        "  output = []\n",
        "  for word in M:\n",
        "    for i in range(1,len(word)+1):\n",
        "      if word[:i] not in output:\n",
        "        output.append(word[:i])\n",
        "  output.sort(key=lambda x : len(x))\n",
        "  return output\n"
      ],
      "execution_count": null,
      "outputs": []
    },
    {
      "cell_type": "code",
      "metadata": {
        "colab": {
          "base_uri": "https://localhost:8080/"
        },
        "id": "g8orKEzsS8wQ",
        "outputId": "5e865631-526c-4442-c6fa-ab51dceb575e"
      },
      "source": [
        "thing = prefm(['at','tatt','tt'])\n",
        "#thing.sort(key=lambda x : len(x))\n",
        "print(thing)"
      ],
      "execution_count": null,
      "outputs": [
        {
          "output_type": "stream",
          "name": "stdout",
          "text": [
            "['a', 't', 'at', 'ta', 'tt', 'tat', 'tatt']\n"
          ]
        }
      ]
    },
    {
      "cell_type": "markdown",
      "metadata": {
        "id": "zViDDz5dhppp"
      },
      "source": [
        "##fonction de suppliance"
      ]
    },
    {
      "cell_type": "code",
      "metadata": {
        "id": "PvE0L4u3Vp74"
      },
      "source": [
        "from typing import List\n",
        "\n",
        "def echec (prefixes:List[str]):\n",
        "  suppliance = {}\n",
        "  for prefix in prefixes:\n",
        "    for i in range(1,len(prefix)):\n",
        "      suffix = prefix[i:]\n",
        "      if suffix in prefixes:\n",
        "        suppliance[prefix]=suffix\n",
        "        break\n",
        "    if suppliance.get(prefix) is None:\n",
        "      suppliance[prefix]=''\n",
        "  # suppliance =\n",
        "  return suppliance\n",
        "\n"
      ],
      "execution_count": null,
      "outputs": []
    },
    {
      "cell_type": "code",
      "metadata": {
        "colab": {
          "base_uri": "https://localhost:8080/"
        },
        "id": "AcAyNy0HTRW8",
        "outputId": "cbf4c7be-4ee6-45db-bb28-30e4e19e0454"
      },
      "source": [
        "echec(prefm(['at','tatt','tt']))"
      ],
      "execution_count": null,
      "outputs": [
        {
          "output_type": "execute_result",
          "data": {
            "text/plain": [
              "{'a': '', 't': '', 'at': 't', 'ta': 'a', 'tt': 't', 'tat': 'at', 'tatt': 'tt'}"
            ]
          },
          "metadata": {},
          "execution_count": 212
        }
      ]
    },
    {
      "cell_type": "markdown",
      "metadata": {
        "id": "uvp_Hkbsh-YI"
      },
      "source": [
        "##Table de sortie"
      ]
    },
    {
      "cell_type": "code",
      "metadata": {
        "id": "JkNaUW0IiDTL"
      },
      "source": [
        "from typing import List\n",
        "\n",
        "def sortie(prefixes:List[str], words:List[str]):\n",
        "  # output dictionary initilization\n",
        "  output={}\n",
        "  # for each prefix in the prefixes table (list)\n",
        "  for prefix in prefixes:\n",
        "    # we initialize the output of the prefix as empty\n",
        "    output[prefix] = []\n",
        "    # foreach suffix of the current prefix\n",
        "    for i in range(len(prefix)):\n",
        "      suffix = prefix[i:]\n",
        "      # if the suffix belongs to the final words, we append it\n",
        "      if suffix in words:\n",
        "        output[prefix].append(suffix)\n",
        "\n",
        "  return output\n"
      ],
      "execution_count": null,
      "outputs": []
    },
    {
      "cell_type": "code",
      "metadata": {
        "colab": {
          "base_uri": "https://localhost:8080/"
        },
        "id": "xbPEDsYM7mzv",
        "outputId": "2fe385fa-5870-490e-e2d1-58bcf5910beb"
      },
      "source": [
        "# example output\n",
        "sortie(prefm(['at','tatt','tt']),['at','tatt','tt'])"
      ],
      "execution_count": null,
      "outputs": [
        {
          "output_type": "execute_result",
          "data": {
            "text/plain": [
              "{'a': [],\n",
              " 't': [],\n",
              " 'at': ['at'],\n",
              " 'ta': [],\n",
              " 'tt': ['tt'],\n",
              " 'tat': ['at'],\n",
              " 'tatt': ['tatt', 'tt']}"
            ]
          },
          "metadata": {},
          "execution_count": 214
        }
      ]
    },
    {
      "cell_type": "markdown",
      "metadata": {
        "id": "YB0EmoEAioW4"
      },
      "source": [
        "##Automate"
      ]
    },
    {
      "cell_type": "markdown",
      "metadata": {
        "id": "UPUtZhBbDteN"
      },
      "source": [
        "###Noeud"
      ]
    },
    {
      "cell_type": "code",
      "metadata": {
        "id": "tQCE_fe5YUlz"
      },
      "source": [
        "from typing import Dict\n",
        "\n",
        "class Noeud():\n",
        "  def __init__(self,name = '',nexts = {}, final=False):\n",
        "    self.name = name\n",
        "    self.nexts = nexts\n",
        "    self.final = final\n",
        "\n",
        "  def next(self, char):\n",
        "    if self.nexts.get(char) is not None:\n",
        "      return self.nexts.get(char)\n",
        "    else:\n",
        "      return None\n",
        "\n",
        "  def __str__(self):\n",
        "    return self.name\n",
        "\n",
        "  @property\n",
        "  def transitions(self):\n",
        "    return [*self.nexts.keys]\n",
        "\n",
        "  def addNext(self,char,final=False):\n",
        "    if self.nexts.get(char) is not None:\n",
        "      raise Exception(\"Char path Node already exists\")\n",
        "    else:\n",
        "      successor = Noeud(self.name+ char, {}, final)\n",
        "      self.nexts[char] = successor\n",
        "      return successor\n",
        "\n",
        "  def setNext(self, char:str, next):\n",
        "    self.nexts[char] = next\n"
      ],
      "execution_count": null,
      "outputs": []
    },
    {
      "cell_type": "markdown",
      "metadata": {
        "id": "YwhfU0dWD1UY"
      },
      "source": [
        "###Arbre"
      ]
    },
    {
      "cell_type": "code",
      "metadata": {
        "id": "4aB3pndvDreh"
      },
      "source": [
        "\n",
        "class Arbre():\n",
        "  def __init__(self, root:Noeud):\n",
        "    self.root = root\n",
        "    self.nodes = {'':root}\n",
        "    self.cursor = root\n",
        "    self.words = []\n",
        "\n",
        "  def addWord(self, word:str):\n",
        "    # initalize the cursor to the root node\n",
        "    self.words.append(word)\n",
        "    self.cursor = self.root\n",
        "\n",
        "    for i in range(len(word)):\n",
        "      letter = word[i]\n",
        "      final = False\n",
        "      # si c'est le dernier caractère, le noeud est final\n",
        "      if i == len(word) - 1:\n",
        "        final = True\n",
        "      # si le cursor n'a pas de successeur\n",
        "      if self.cursor.next(letter) is None:\n",
        "        self.cursor = self.cursor.addNext(letter, final)\n",
        "        self.nodes[self.cursor.name] = self.cursor\n",
        "      else:\n",
        "        self.cursor =self.cursor.next(letter)\n",
        "\n",
        "    self.cursor = self.root\n",
        "    # self.optimizeRoutes()\n",
        "\n",
        "  def setWords(self, words):\n",
        "    for word in words:\n",
        "      self.addWord(word)\n",
        "\n",
        "    self.prefixes = prefm(self.words)\n",
        "    self.supliance = echec(self.prefixes)\n",
        "    self.tableSortie = sortie(self.prefixes, self.words)\n",
        "    self.optimizeRoutes()\n",
        "\n",
        "\n",
        "  def __str__(self):\n",
        "    return str(self.root)\n",
        "\n",
        "  def search(self,text:str):\n",
        "    self.cursor = self.root\n",
        "    indicies = {}\n",
        "    i=0\n",
        "    while i < len(text):\n",
        "      letter = text[i]\n",
        "      if self.cursor.next(letter) is None:\n",
        "        # cas non trouvé\n",
        "        if self.cursor.next('') is not None:\n",
        "          # si une transition vide existe, on transitionnne\n",
        "          self.cursor = self.cursor.next('')\n",
        "        else:\n",
        "          # dans le cas contraire on avance dans le texte\n",
        "          # on sait qu'on revient à root\n",
        "          i+=1\n",
        "      else:\n",
        "        # cas trouvé\n",
        "        self.cursor = self.cursor.next(letter)\n",
        "        i+=1\n",
        "\n",
        "      if self.cursor.final:\n",
        "        foundWords = self.tableSortie[self.cursor.name]\n",
        "        for foundWord in foundWords:\n",
        "          index = i - len(foundWord) + 1\n",
        "          if indicies.get(foundWord) is None:\n",
        "            indicies[foundWord] = [index]\n",
        "          else:\n",
        "            if index not in indicies[foundWord]:\n",
        "              indicies[foundWord].append(index)\n",
        "\n",
        "    return indicies\n",
        "\n",
        "\n",
        "\n",
        "  def optimizeRoutes(self):\n",
        "    prefixes = self.prefixes\n",
        "    supliance = self.supliance\n",
        "    # self.tableSortie = self.tableSortie\n",
        "\n",
        "    for prefix in supliance:\n",
        "      try:\n",
        "        self.nodes[prefix].setNext(\n",
        "            '',\n",
        "            self.nodes[supliance[prefix]]\n",
        "            )\n",
        "      except:\n",
        "        print(self.nodes)\n",
        "        print(prefix)\n",
        "        import sys\n",
        "        sys.exit(\"Error message\")\n",
        "\n",
        "    for item in self.tableSortie:\n",
        "      if self.tableSortie[item] != []:\n",
        "        try:\n",
        "          self.nodes[item].final = True\n",
        "        except:\n",
        "          print(str(self.tableSortie))\n",
        "\n",
        "\n",
        "  def print(self):\n",
        "    import networkx as nx\n",
        "    DG = nx.DiGraph()\n",
        "    for node in self.nodes:\n",
        "      DG.add_node(node)\n",
        "\n",
        "    for node in self.nodes:\n",
        "      for edge in self.nodes[node].nexts:\n",
        "        end = self.nodes[node].nexts[edge]\n",
        "        DG.add_edge(node,end.name)\n",
        "\n",
        "    nx.draw(DG, with_labels=True)\n",
        "\n",
        "\n",
        "  def readChar(self, char:str):\n",
        "    return self.cursor.next(char)\n",
        "\n"
      ],
      "execution_count": null,
      "outputs": []
    },
    {
      "cell_type": "code",
      "metadata": {
        "id": "DYaiwWPkvgFf"
      },
      "source": [
        "def draw_graph(tree:Arbre):\n",
        "  import networkx as nx\n",
        "  import matplotlib.pyplot as plt\n",
        "  # import pydot\n",
        "  # from networkx.drawing.nx_pydot import graphviz_layout\n",
        "  G = nx.DiGraph()\n",
        "\n",
        "  plt.figure(figsize=(10, 5))\n",
        "\n",
        "\n",
        "  end = 'red'\n",
        "  root = 'green'\n",
        "  normal = 'blue'\n",
        "\n",
        "  labels = {}\n",
        "\n",
        "  nodeList = []\n",
        "  color_map = []\n",
        "\n",
        "  # fill nodeList and color_map\n",
        "  for prefix in tree.nodes:\n",
        "    node = tree.nodes[prefix]\n",
        "    nodeList.append(prefix)\n",
        "    if prefix == '':\n",
        "      color_map.append(root)\n",
        "    else:\n",
        "      if node.final:\n",
        "        color_map.append(end)\n",
        "      else:\n",
        "        color_map.append(normal)\n",
        "\n",
        "  G.add_nodes_from(nodeList)\n",
        "\n",
        "  # specify edges\n",
        "  for prefix in tree.nodes:\n",
        "    node = tree.nodes[prefix]\n",
        "    for transition in node.nexts:\n",
        "      if transition == '':\n",
        "        G.add_edge(node.name, node.next('').name, color='red')\n",
        "      else:\n",
        "        G.add_edge(node.name, node.next(transition).name, color='black')\n",
        "        labels[(node.name, node.next(transition).name)]= transition\n",
        "\n",
        "  #  getting the color for edges and puting them into  a list\n",
        "  colors = nx.get_edge_attributes(G, 'color').values()\n",
        "\n",
        "  # tebe3t yacine\n",
        "  pos = nx.kamada_kawai_layout(G)\n",
        "\n",
        "  nx.draw_networkx_edge_labels(\n",
        "        G, pos, edge_labels=labels, font_size=15)\n",
        "\n",
        "  nx.draw_networkx(G, pos, edge_color=colors,\n",
        "                     connectionstyle=\"arc3,rad=0.2\")\n",
        "\n",
        "  # to change noud color\n",
        "  print(\"color_map length\" + str(len(color_map)))\n",
        "  print(\"tree.nodes length\" + str(len(tree.nodes)))\n",
        "  print(G.nodes)\n",
        "  nx.draw_networkx_nodes(G, pos, node_color=color_map, node_size=500)\n",
        "  # just to chnage noud lables color\n",
        "  nx.draw_networkx_labels(G, pos, font_color='#000')\n",
        "  plt.show()\n"
      ],
      "execution_count": null,
      "outputs": []
    },
    {
      "cell_type": "markdown",
      "metadata": {
        "id": "AKFMKSamS9g5"
      },
      "source": [
        "###Test\n"
      ]
    },
    {
      "cell_type": "markdown",
      "metadata": {
        "id": "xF8eddrETOoS"
      },
      "source": [
        "####Exemple"
      ]
    },
    {
      "cell_type": "code",
      "metadata": {
        "colab": {
          "base_uri": "https://localhost:8080/",
          "height": 476
        },
        "id": "1cVo7Ty0HaPf",
        "outputId": "352fd049-dcf6-4704-cf38-cd4611e18685"
      },
      "source": [
        "\n",
        "arbre = Arbre(Noeud('',{}))\n",
        "arbre.setWords(['BBB','AAB','ABCA'])\n",
        "draw_graph(arbre)"
      ],
      "execution_count": null,
      "outputs": [
        {
          "output_type": "stream",
          "name": "stdout",
          "text": [
            "color_map length10\n",
            "tree.nodes length10\n",
            "['', 'B', 'BB', 'BBB', 'A', 'AA', 'AAB', 'AB', 'ABC', 'ABCA']\n"
          ]
        },
        {
          "output_type": "display_data",
          "data": {
            "text/plain": [
              "<Figure size 1000x500 with 1 Axes>"
            ],
            "image/png": "[encoded data removed]"
          },
          "metadata": {}
        }
      ]
    },
    {
      "cell_type": "code",
      "metadata": {
        "colab": {
          "base_uri": "https://localhost:8080/"
        },
        "id": "SCk_oU3mTSw_",
        "outputId": "e3c5d142-2d0a-45c9-c2f4-2e22bb0c9c7e"
      },
      "source": [
        "\n",
        "arbre = Arbre(Noeud('',{}))\n",
        "# arbre.addWord('aac')\n",
        "# arbre.addWord('agt')\n",
        "# arbre.addWord('gta')\n",
        "arbre.setWords(['aac','agt','gta'])\n",
        "\n",
        "arbre.search('cagtaaccgta')"
      ],
      "execution_count": null,
      "outputs": [
        {
          "output_type": "execute_result",
          "data": {
            "text/plain": [
              "{'agt': [2], 'gta': [3, 9], 'aac': [5]}"
            ]
          },
          "metadata": {},
          "execution_count": 219
        }
      ]
    },
    {
      "cell_type": "markdown",
      "source": [
        "#Analysis"
      ],
      "metadata": {
        "id": "8Atg35yQ2QSU"
      }
    },
    {
      "cell_type": "markdown",
      "source": [
        "## generating data"
      ],
      "metadata": {
        "id": "JzMv5Jho24Eu"
      }
    },
    {
      "cell_type": "markdown",
      "source": [
        "**generating DNA sequences of different lengths** and storing them in csv files !"
      ],
      "metadata": {
        "id": "vwzm73uh--VS"
      }
    },
    {
      "cell_type": "code",
      "source": [
        "def generate_dna_sequence(length):\n",
        "    return ''.join(random.choice('ACGT') for _ in range(length))\n",
        "\n",
        "def generate_motif(seq, l):\n",
        "    if l > len(seq):\n",
        "        raise ValueError(\"Motif length cannot be greater than sequence length.\")\n",
        "    start = random.randint(0, len(seq) - l)\n",
        "    motif = seq[start:start+l]\n",
        "    return motif"
      ],
      "metadata": {
        "id": "yaK1QLzr2TzV"
      },
      "execution_count": null,
      "outputs": []
    },
    {
      "cell_type": "code",
      "source": [
        "def write_to_csv(filename, data: str):\n",
        "    file_exists = os.path.isfile(filename)\n",
        "    with open(filename, 'a', newline='') as file:\n",
        "        writer = csv.writer(file)\n",
        "        if not file_exists:\n",
        "            writer.writerow([\"DNA Sequence\"])\n",
        "        if isinstance(data, str):\n",
        "            writer.writerow([data])  # Write single row\n",
        "        else:\n",
        "            writer.writerows(data)"
      ],
      "metadata": {
        "id": "CtRsYi8Y4-4A"
      },
      "execution_count": null,
      "outputs": []
    },
    {
      "cell_type": "code",
      "source": [
        "l=50000000\n",
        "i=0\n",
        "for k in range(10):\n",
        "  i+=1\n",
        "  dna=generate_dna_sequence(l)\n",
        "  write_to_csv(f\"dna_{l}.csv\",dna)"
      ],
      "metadata": {
        "id": "CMDBDA0c6V10"
      },
      "execution_count": null,
      "outputs": []
    },
    {
      "cell_type": "markdown",
      "source": [
        "## **BOYER-MOORE** testing"
      ],
      "metadata": {
        "id": "vK5cJO7T_STc"
      }
    },
    {
      "cell_type": "markdown",
      "source": [
        "**generating motifs from the dna sequences we have and testing them**\n"
      ],
      "metadata": {
        "id": "HE8bEBSd_Ht6"
      }
    },
    {
      "cell_type": "code",
      "source": [
        "def dna_sequence_generator(filename):\n",
        "    for chunk in pd.read_csv(filename, header=None, names=['Sequence'], chunksize=1,skiprows=1):\n",
        "        yield chunk['Sequence'].iloc[0]\n",
        "motif_lenghts=[5,10,100,1000,10000,100000,1000000,10000000]\n",
        "datas=[]"
      ],
      "metadata": {
        "id": "g4q0hOIk78EO"
      },
      "execution_count": null,
      "outputs": []
    },
    {
      "cell_type": "code",
      "source": [
        "i=50000000\n",
        "filename = f'dna_{i}.csv'\n",
        "sequences_generator = dna_sequence_generator(filename)\n",
        "for sequence in sequences_generator:\n",
        "  for v in motif_lenghts:\n",
        "    if v==i:\n",
        "      break\n",
        "    motif=generate_motif(sequence,v)\n",
        "\n",
        "    b_start=time.time()\n",
        "    b_res,b_comp,dic=Boyer_Moore(sequence,motif)\n",
        "    b_end=time.time()\n",
        "    n_start=time.time()\n",
        "    n_res,n_comp=naive_search(sequence,motif)\n",
        "    n_end=time.time()\n",
        "\n",
        "    b_execution=b_end-b_start\n",
        "    n_execution=n_end-n_start\n",
        "    pos=b_res\n",
        "    data={\n",
        "        'taille seq':i,\n",
        "        'taille motif':v,\n",
        "        'exec BM (secs)':b_execution,\n",
        "        'exec naif (secs)':n_execution,\n",
        "        'comps BM':b_comp,\n",
        "        'comps naif':n_comp,\n",
        "        'position':pos,\n",
        "        'taille dic (octets)':sys.getsizeof(dic)\n",
        "\n",
        "    }\n",
        "    datas.append(data)"
      ],
      "metadata": {
        "id": "q5iB1pow3UgZ"
      },
      "execution_count": null,
      "outputs": []
    },
    {
      "cell_type": "markdown",
      "source": [
        "**creating a data frame to store the results**\n",
        "it countains:\n",
        "- length of the DNA sequence\n",
        "- length of the motif\n",
        "- execution time of Boyer-Moore (in seconds)(with the construction of the dictionary)\n",
        "- execution time of naive-search (in seconds)\n",
        "- number of comparisons of Boyer-Moore\n",
        "- number of comparisons of naive search\n",
        "- position of the motif in the DNA sequence (to find the worst and best case)\n",
        "- size of the Boyer-Moore dictionary"
      ],
      "metadata": {
        "id": "cPUfPW_q_uTZ"
      }
    },
    {
      "cell_type": "code",
      "source": [
        "data_frame=pd.DataFrame(datas)\n",
        "data_frame"
      ],
      "metadata": {
        "colab": {
          "base_uri": "https://localhost:8080/",
          "height": 423
        },
        "id": "K0X44B-F_qYE",
        "outputId": "6f378dfe-1a69-41d9-a989-18b8c887f0b7"
      },
      "execution_count": null,
      "outputs": [
        {
          "output_type": "execute_result",
          "data": {
            "text/plain": [
              "     taille seq  taille motif  exec BM (secs)  exec naif (secs)  comps BM  \\\n",
              "0            10             5        0.000050          0.000008         5   \n",
              "1            10             5        0.000038          0.000007         5   \n",
              "2            10             5        0.000037          0.000010        10   \n",
              "3            10             5        0.000038          0.000010         6   \n",
              "4            10             5        0.000036          0.000008         6   \n",
              "..          ...           ...             ...               ...       ...   \n",
              "355    50000000          1000       20.359284         28.851628  23012484   \n",
              "356    50000000         10000        2.415761          7.518418   4275711   \n",
              "357    50000000        100000        3.737632          5.250573   3417812   \n",
              "358    50000000       1000000        5.208046          4.725670   3428036   \n",
              "359    50000000      10000000       60.128632         22.741452  26166713   \n",
              "\n",
              "     comps naif  position  taille dic (octets)  \n",
              "0             5         0                  640  \n",
              "1             5         0                  640  \n",
              "2            12         4                  360  \n",
              "3            11         4                  640  \n",
              "4             6         1                  640  \n",
              "..          ...       ...                  ...  \n",
              "355    63599019  47695708               147552  \n",
              "356    15237265  11420789              1310808  \n",
              "357     8970236   6652696             20971608  \n",
              "358    13824209   9618673            167772256  \n",
              "359    51095020  30819987           1342177368  \n",
              "\n",
              "[360 rows x 8 columns]"
            ],
            "text/html": [
              "\n",
              "  <div id=\"df-6e56ee0f-841d-4f66-9c30-d47a0baa77fa\" class=\"colab-df-container\">\n",
              "    <div>\n",
              "<style scoped>\n",
              "    .dataframe tbody tr th:only-of-type {\n",
              "        vertical-align: middle;\n",
              "    }\n",
              "\n",
              "    .dataframe tbody tr th {\n",
              "        vertical-align: top;\n",
              "    }\n",
              "\n",
              "    .dataframe thead th {\n",
              "        text-align: right;\n",
              "    }\n",
              "</style>\n",
              "<table border=\"1\" class=\"dataframe\">\n",
              "  <thead>\n",
              "    <tr style=\"text-align: right;\">\n",
              "      <th></th>\n",
              "      <th>taille seq</th>\n",
              "      <th>taille motif</th>\n",
              "      <th>exec BM (secs)</th>\n",
              "      <th>exec naif (secs)</th>\n",
              "      <th>comps BM</th>\n",
              "      <th>comps naif</th>\n",
              "      <th>position</th>\n",
              "      <th>taille dic (octets)</th>\n",
              "    </tr>\n",
              "  </thead>\n",
              "  <tbody>\n",
              "    <tr>\n",
              "      <th>0</th>\n",
              "      <td>10</td>\n",
              "      <td>5</td>\n",
              "      <td>0.000050</td>\n",
              "      <td>0.000008</td>\n",
              "      <td>5</td>\n",
              "      <td>5</td>\n",
              "      <td>0</td>\n",
              "      <td>640</td>\n",
              "    </tr>\n",
              "    <tr>\n",
              "      <th>1</th>\n",
              "      <td>10</td>\n",
              "      <td>5</td>\n",
              "      <td>0.000038</td>\n",
              "      <td>0.000007</td>\n",
              "      <td>5</td>\n",
              "      <td>5</td>\n",
              "      <td>0</td>\n",
              "      <td>640</td>\n",
              "    </tr>\n",
              "    <tr>\n",
              "      <th>2</th>\n",
              "      <td>10</td>\n",
              "      <td>5</td>\n",
              "      <td>0.000037</td>\n",
              "      <td>0.000010</td>\n",
              "      <td>10</td>\n",
              "      <td>12</td>\n",
              "      <td>4</td>\n",
              "      <td>360</td>\n",
              "    </tr>\n",
              "    <tr>\n",
              "      <th>3</th>\n",
              "      <td>10</td>\n",
              "      <td>5</td>\n",
              "      <td>0.000038</td>\n",
              "      <td>0.000010</td>\n",
              "      <td>6</td>\n",
              "      <td>11</td>\n",
              "      <td>4</td>\n",
              "      <td>640</td>\n",
              "    </tr>\n",
              "    <tr>\n",
              "      <th>4</th>\n",
              "      <td>10</td>\n",
              "      <td>5</td>\n",
              "      <td>0.000036</td>\n",
              "      <td>0.000008</td>\n",
              "      <td>6</td>\n",
              "      <td>6</td>\n",
              "      <td>1</td>\n",
              "      <td>640</td>\n",
              "    </tr>\n",
              "    <tr>\n",
              "      <th>...</th>\n",
              "      <td>...</td>\n",
              "      <td>...</td>\n",
              "      <td>...</td>\n",
              "      <td>...</td>\n",
              "      <td>...</td>\n",
              "      <td>...</td>\n",
              "      <td>...</td>\n",
              "      <td>...</td>\n",
              "    </tr>\n",
              "    <tr>\n",
              "      <th>355</th>\n",
              "      <td>50000000</td>\n",
              "      <td>1000</td>\n",
              "      <td>20.359284</td>\n",
              "      <td>28.851628</td>\n",
              "      <td>23012484</td>\n",
              "      <td>63599019</td>\n",
              "      <td>47695708</td>\n",
              "      <td>147552</td>\n",
              "    </tr>\n",
              "    <tr>\n",
              "      <th>356</th>\n",
              "      <td>50000000</td>\n",
              "      <td>10000</td>\n",
              "      <td>2.415761</td>\n",
              "      <td>7.518418</td>\n",
              "      <td>4275711</td>\n",
              "      <td>15237265</td>\n",
              "      <td>11420789</td>\n",
              "      <td>1310808</td>\n",
              "    </tr>\n",
              "    <tr>\n",
              "      <th>357</th>\n",
              "      <td>50000000</td>\n",
              "      <td>100000</td>\n",
              "      <td>3.737632</td>\n",
              "      <td>5.250573</td>\n",
              "      <td>3417812</td>\n",
              "      <td>8970236</td>\n",
              "      <td>6652696</td>\n",
              "      <td>20971608</td>\n",
              "    </tr>\n",
              "    <tr>\n",
              "      <th>358</th>\n",
              "      <td>50000000</td>\n",
              "      <td>1000000</td>\n",
              "      <td>5.208046</td>\n",
              "      <td>4.725670</td>\n",
              "      <td>3428036</td>\n",
              "      <td>13824209</td>\n",
              "      <td>9618673</td>\n",
              "      <td>167772256</td>\n",
              "    </tr>\n",
              "    <tr>\n",
              "      <th>359</th>\n",
              "      <td>50000000</td>\n",
              "      <td>10000000</td>\n",
              "      <td>60.128632</td>\n",
              "      <td>22.741452</td>\n",
              "      <td>26166713</td>\n",
              "      <td>51095020</td>\n",
              "      <td>30819987</td>\n",
              "      <td>1342177368</td>\n",
              "    </tr>\n",
              "  </tbody>\n",
              "</table>\n",
              "<p>360 rows × 8 columns</p>\n",
              "</div>\n",
              "    <div class=\"colab-df-buttons\">\n",
              "\n",
              "  <div class=\"colab-df-container\">\n",
              "    <button class=\"colab-df-convert\" onclick=\"convertToInteractive('df-6e56ee0f-841d-4f66-9c30-d47a0baa77fa')\"\n",
              "            title=\"Convert this dataframe to an interactive table.\"\n",
              "            style=\"display:none;\">\n",
              "\n",
              "  <svg xmlns=\"http://www.w3.org/2000/svg\" height=\"24px\" viewBox=\"0 -960 960 960\">\n",
              "    <path d=\"M120-120v-720h720v720H120Zm60-500h600v-160H180v160Zm220 220h160v-160H400v160Zm0 220h160v-160H400v160ZM180-400h160v-160H180v160Zm440 0h160v-160H620v160ZM180-180h160v-160H180v160Zm440 0h160v-160H620v160Z\"/>\n",
              "  </svg>\n",
              "    </button>\n",
              "\n",
              "  <style>\n",
              "    .colab-df-container {\n",
              "      display:flex;\n",
              "      gap: 12px;\n",
              "    }\n",
              "\n",
              "    .colab-df-convert {\n",
              "      background-color: #E8F0FE;\n",
              "      border: none;\n",
              "      border-radius: 50%;\n",
              "      cursor: pointer;\n",
              "      display: none;\n",
              "      fill: #1967D2;\n",
              "      height: 32px;\n",
              "      padding: 0 0 0 0;\n",
              "      width: 32px;\n",
              "    }\n",
              "\n",
              "    .colab-df-convert:hover {\n",
              "      background-color: #E2EBFA;\n",
              "      box-shadow: 0px 1px 2px rgba(60, 64, 67, 0.3), 0px 1px 3px 1px rgba(60, 64, 67, 0.15);\n",
              "      fill: #174EA6;\n",
              "    }\n",
              "\n",
              "    .colab-df-buttons div {\n",
              "      margin-bottom: 4px;\n",
              "    }\n",
              "\n",
              "    [theme=dark] .colab-df-convert {\n",
              "      background-color: #3B4455;\n",
              "      fill: #D2E3FC;\n",
              "    }\n",
              "\n",
              "    [theme=dark] .colab-df-convert:hover {\n",
              "      background-color: #434B5C;\n",
              "      box-shadow: 0px 1px 3px 1px rgba(0, 0, 0, 0.15);\n",
              "      filter: drop-shadow(0px 1px 2px rgba(0, 0, 0, 0.3));\n",
              "      fill: #FFFFFF;\n",
              "    }\n",
              "  </style>\n",
              "\n",
              "    <script>\n",
              "      const buttonEl =\n",
              "        document.querySelector('#df-6e56ee0f-841d-4f66-9c30-d47a0baa77fa button.colab-df-convert');\n",
              "      buttonEl.style.display =\n",
              "        google.colab.kernel.accessAllowed ? 'block' : 'none';\n",
              "\n",
              "      async function convertToInteractive(key) {\n",
              "        const element = document.querySelector('#df-6e56ee0f-841d-4f66-9c30-d47a0baa77fa');\n",
              "        const dataTable =\n",
              "          await google.colab.kernel.invokeFunction('convertToInteractive',\n",
              "                                                    [key], {});\n",
              "        if (!dataTable) return;\n",
              "\n",
              "        const docLinkHtml = 'Like what you see? Visit the ' +\n",
              "          '<a target=\"_blank\" href=https://colab.research.google.com/notebooks/data_table.ipynb>data table notebook</a>'\n",
              "          + ' to learn more about interactive tables.';\n",
              "        element.innerHTML = '';\n",
              "        dataTable['output_type'] = 'display_data';\n",
              "        await google.colab.output.renderOutput(dataTable, element);\n",
              "        const docLink = document.createElement('div');\n",
              "        docLink.innerHTML = docLinkHtml;\n",
              "        element.appendChild(docLink);\n",
              "      }\n",
              "    </script>\n",
              "  </div>\n",
              "\n",
              "\n",
              "<div id=\"df-96764cbe-505a-4f56-919b-bf6d27a8ad27\">\n",
              "  <button class=\"colab-df-quickchart\" onclick=\"quickchart('df-96764cbe-505a-4f56-919b-bf6d27a8ad27')\"\n",
              "            title=\"Suggest charts\"\n",
              "            style=\"display:none;\">\n",
              "\n",
              "<svg xmlns=\"http://www.w3.org/2000/svg\" height=\"24px\"viewBox=\"0 0 24 24\"\n",
              "     width=\"24px\">\n",
              "    <g>\n",
              "        <path d=\"M19 3H5c-1.1 0-2 .9-2 2v14c0 1.1.9 2 2 2h14c1.1 0 2-.9 2-2V5c0-1.1-.9-2-2-2zM9 17H7v-7h2v7zm4 0h-2V7h2v10zm4 0h-2v-4h2v4z\"/>\n",
              "    </g>\n",
              "</svg>\n",
              "  </button>\n",
              "\n",
              "<style>\n",
              "  .colab-df-quickchart {\n",
              "      --bg-color: #E8F0FE;\n",
              "      --fill-color: #1967D2;\n",
              "      --hover-bg-color: #E2EBFA;\n",
              "      --hover-fill-color: #174EA6;\n",
              "      --disabled-fill-color: #AAA;\n",
              "      --disabled-bg-color: #DDD;\n",
              "  }\n",
              "\n",
              "  [theme=dark] .colab-df-quickchart {\n",
              "      --bg-color: #3B4455;\n",
              "      --fill-color: #D2E3FC;\n",
              "      --hover-bg-color: #434B5C;\n",
              "      --hover-fill-color: #FFFFFF;\n",
              "      --disabled-bg-color: #3B4455;\n",
              "      --disabled-fill-color: #666;\n",
              "  }\n",
              "\n",
              "  .colab-df-quickchart {\n",
              "    background-color: var(--bg-color);\n",
              "    border: none;\n",
              "    border-radius: 50%;\n",
              "    cursor: pointer;\n",
              "    display: none;\n",
              "    fill: var(--fill-color);\n",
              "    height: 32px;\n",
              "    padding: 0;\n",
              "    width: 32px;\n",
              "  }\n",
              "\n",
              "  .colab-df-quickchart:hover {\n",
              "    background-color: var(--hover-bg-color);\n",
              "    box-shadow: 0 1px 2px rgba(60, 64, 67, 0.3), 0 1px 3px 1px rgba(60, 64, 67, 0.15);\n",
              "    fill: var(--button-hover-fill-color);\n",
              "  }\n",
              "\n",
              "  .colab-df-quickchart-complete:disabled,\n",
              "  .colab-df-quickchart-complete:disabled:hover {\n",
              "    background-color: var(--disabled-bg-color);\n",
              "    fill: var(--disabled-fill-color);\n",
              "    box-shadow: none;\n",
              "  }\n",
              "\n",
              "  .colab-df-spinner {\n",
              "    border: 2px solid var(--fill-color);\n",
              "    border-color: transparent;\n",
              "    border-bottom-color: var(--fill-color);\n",
              "    animation:\n",
              "      spin 1s steps(1) infinite;\n",
              "  }\n",
              "\n",
              "  @keyframes spin {\n",
              "    0% {\n",
              "      border-color: transparent;\n",
              "      border-bottom-color: var(--fill-color);\n",
              "      border-left-color: var(--fill-color);\n",
              "    }\n",
              "    20% {\n",
              "      border-color: transparent;\n",
              "      border-left-color: var(--fill-color);\n",
              "      border-top-color: var(--fill-color);\n",
              "    }\n",
              "    30% {\n",
              "      border-color: transparent;\n",
              "      border-left-color: var(--fill-color);\n",
              "      border-top-color: var(--fill-color);\n",
              "      border-right-color: var(--fill-color);\n",
              "    }\n",
              "    40% {\n",
              "      border-color: transparent;\n",
              "      border-right-color: var(--fill-color);\n",
              "      border-top-color: var(--fill-color);\n",
              "    }\n",
              "    60% {\n",
              "      border-color: transparent;\n",
              "      border-right-color: var(--fill-color);\n",
              "    }\n",
              "    80% {\n",
              "      border-color: transparent;\n",
              "      border-right-color: var(--fill-color);\n",
              "      border-bottom-color: var(--fill-color);\n",
              "    }\n",
              "    90% {\n",
              "      border-color: transparent;\n",
              "      border-bottom-color: var(--fill-color);\n",
              "    }\n",
              "  }\n",
              "</style>\n",
              "\n",
              "  <script>\n",
              "    async function quickchart(key) {\n",
              "      const quickchartButtonEl =\n",
              "        document.querySelector('#' + key + ' button');\n",
              "      quickchartButtonEl.disabled = true;  // To prevent multiple clicks.\n",
              "      quickchartButtonEl.classList.add('colab-df-spinner');\n",
              "      try {\n",
              "        const charts = await google.colab.kernel.invokeFunction(\n",
              "            'suggestCharts', [key], {});\n",
              "      } catch (error) {\n",
              "        console.error('Error during call to suggestCharts:', error);\n",
              "      }\n",
              "      quickchartButtonEl.classList.remove('colab-df-spinner');\n",
              "      quickchartButtonEl.classList.add('colab-df-quickchart-complete');\n",
              "    }\n",
              "    (() => {\n",
              "      let quickchartButtonEl =\n",
              "        document.querySelector('#df-96764cbe-505a-4f56-919b-bf6d27a8ad27 button');\n",
              "      quickchartButtonEl.style.display =\n",
              "        google.colab.kernel.accessAllowed ? 'block' : 'none';\n",
              "    })();\n",
              "  </script>\n",
              "</div>\n",
              "\n",
              "  <div id=\"id_197df4c4-f795-43f4-bb2d-81a192375592\">\n",
              "    <style>\n",
              "      .colab-df-generate {\n",
              "        background-color: #E8F0FE;\n",
              "        border: none;\n",
              "        border-radius: 50%;\n",
              "        cursor: pointer;\n",
              "        display: none;\n",
              "        fill: #1967D2;\n",
              "        height: 32px;\n",
              "        padding: 0 0 0 0;\n",
              "        width: 32px;\n",
              "      }\n",
              "\n",
              "      .colab-df-generate:hover {\n",
              "        background-color: #E2EBFA;\n",
              "        box-shadow: 0px 1px 2px rgba(60, 64, 67, 0.3), 0px 1px 3px 1px rgba(60, 64, 67, 0.15);\n",
              "        fill: #174EA6;\n",
              "      }\n",
              "\n",
              "      [theme=dark] .colab-df-generate {\n",
              "        background-color: #3B4455;\n",
              "        fill: #D2E3FC;\n",
              "      }\n",
              "\n",
              "      [theme=dark] .colab-df-generate:hover {\n",
              "        background-color: #434B5C;\n",
              "        box-shadow: 0px 1px 3px 1px rgba(0, 0, 0, 0.15);\n",
              "        filter: drop-shadow(0px 1px 2px rgba(0, 0, 0, 0.3));\n",
              "        fill: #FFFFFF;\n",
              "      }\n",
              "    </style>\n",
              "    <button class=\"colab-df-generate\" onclick=\"generateWithVariable('data_frame')\"\n",
              "            title=\"Generate code using this dataframe.\"\n",
              "            style=\"display:none;\">\n",
              "\n",
              "  <svg xmlns=\"http://www.w3.org/2000/svg\" height=\"24px\"viewBox=\"0 0 24 24\"\n",
              "       width=\"24px\">\n",
              "    <path d=\"M7,19H8.4L18.45,9,17,7.55,7,17.6ZM5,21V16.75L18.45,3.32a2,2,0,0,1,2.83,0l1.4,1.43a1.91,1.91,0,0,1,.58,1.4,1.91,1.91,0,0,1-.58,1.4L9.25,21ZM18.45,9,17,7.55Zm-12,3A5.31,5.31,0,0,0,4.9,8.1,5.31,5.31,0,0,0,1,6.5,5.31,5.31,0,0,0,4.9,4.9,5.31,5.31,0,0,0,6.5,1,5.31,5.31,0,0,0,8.1,4.9,5.31,5.31,0,0,0,12,6.5,5.46,5.46,0,0,0,6.5,12Z\"/>\n",
              "  </svg>\n",
              "    </button>\n",
              "    <script>\n",
              "      (() => {\n",
              "      const buttonEl =\n",
              "        document.querySelector('#id_197df4c4-f795-43f4-bb2d-81a192375592 button.colab-df-generate');\n",
              "      buttonEl.style.display =\n",
              "        google.colab.kernel.accessAllowed ? 'block' : 'none';\n",
              "\n",
              "      buttonEl.onclick = () => {\n",
              "        google.colab.notebook.generateWithVariable('data_frame');\n",
              "      }\n",
              "      })();\n",
              "    </script>\n",
              "  </div>\n",
              "\n",
              "    </div>\n",
              "  </div>\n"
            ],
            "application/vnd.google.colaboratory.intrinsic+json": {
              "type": "dataframe",
              "variable_name": "data_frame",
              "summary": "{\n  \"name\": \"data_frame\",\n  \"rows\": 360,\n  \"fields\": [\n    {\n      \"column\": \"taille seq\",\n      \"properties\": {\n        \"dtype\": \"number\",\n        \"std\": 20026375,\n        \"min\": 10,\n        \"max\": 50000000,\n        \"num_unique_values\": 8,\n        \"samples\": [\n          100,\n          1000000,\n          10\n        ],\n        \"semantic_type\": \"\",\n        \"description\": \"\"\n      }\n    },\n    {\n      \"column\": \"taille motif\",\n      \"properties\": {\n        \"dtype\": \"number\",\n        \"std\": 1650496,\n        \"min\": 5,\n        \"max\": 10000000,\n        \"num_unique_values\": 8,\n        \"samples\": [\n          10,\n          100000,\n          5\n        ],\n        \"semantic_type\": \"\",\n        \"description\": \"\"\n      }\n    },\n    {\n      \"column\": \"exec BM (secs)\",\n      \"properties\": {\n        \"dtype\": \"number\",\n        \"std\": 8.995694659969493,\n        \"min\": 1.8835067749023438e-05,\n        \"max\": 60.12863206863403,\n        \"num_unique_values\": 354,\n        \"samples\": [\n          1.9383749961853027,\n          0.00010085105895996094,\n          7.634776830673218\n        ],\n        \"semantic_type\": \"\",\n        \"description\": \"\"\n      }\n    },\n    {\n      \"column\": \"exec naif (secs)\",\n      \"properties\": {\n        \"dtype\": \"number\",\n        \"std\": 6.701367203103781,\n        \"min\": 4.291534423828125e-06,\n        \"max\": 32.915531873703,\n        \"num_unique_values\": 356,\n        \"samples\": [\n          5.7697296142578125e-05,\n          6.198883056640625e-06,\n          0.69386887550354\n        ],\n        \"semantic_type\": \"\",\n        \"description\": \"\"\n      }\n    },\n    {\n      \"column\": \"comps BM\",\n      \"properties\": {\n        \"dtype\": \"number\",\n        \"std\": 4897437,\n        \"min\": 5,\n        \"max\": 26166713,\n        \"num_unique_values\": 344,\n        \"samples\": [\n          100478,\n          5208,\n          2389200\n        ],\n        \"semantic_type\": \"\",\n        \"description\": \"\"\n      }\n    },\n    {\n      \"column\": \"comps naif\",\n      \"properties\": {\n        \"dtype\": \"number\",\n        \"std\": 14123848,\n        \"min\": 5,\n        \"max\": 66270294,\n        \"num_unique_values\": 349,\n        \"samples\": [\n          203230,\n          2778,\n          57994351\n        ],\n        \"semantic_type\": \"\",\n        \"description\": \"\"\n      }\n    },\n    {\n      \"column\": \"position\",\n      \"properties\": {\n        \"dtype\": \"number\",\n        \"std\": 10123586,\n        \"min\": 0,\n        \"max\": 49694951,\n        \"num_unique_values\": 346,\n        \"samples\": [\n          27749,\n          10581,\n          38362259\n        ],\n        \"semantic_type\": \"\",\n        \"description\": \"\"\n      }\n    },\n    {\n      \"column\": \"taille dic (octets)\",\n      \"properties\": {\n        \"dtype\": \"number\",\n        \"std\": 222314276,\n        \"min\": 232,\n        \"max\": 1342177368,\n        \"num_unique_values\": 10,\n        \"samples\": [\n          1342177368,\n          360,\n          1310808\n        ],\n        \"semantic_type\": \"\",\n        \"description\": \"\"\n      }\n    }\n  ]\n}"
            }
          },
          "metadata": {},
          "execution_count": 29
        }
      ]
    },
    {
      "cell_type": "markdown",
      "source": [
        "on remarque que:\n",
        "- le nombre de comparaisons faitent par boyer-moore est infereur a celui de naif sauf si le motif est a la postion **0**\n",
        "- **le meilleur cas** de boyer-moore: le motif est a la premiere postion\n",
        "- **le pire cas de boyer-moore** le motif est a la l-m'ieme postion et le décalage est toujours d'un caractère"
      ],
      "metadata": {
        "id": "zMZLsgji6Gxp"
      }
    },
    {
      "cell_type": "markdown",
      "source": [
        "**storing the data frame in a csv file**"
      ],
      "metadata": {
        "id": "v8Owzv7hAnOt"
      }
    },
    {
      "cell_type": "code",
      "source": [
        "data_frame.to_csv('output.csv', index=False)"
      ],
      "metadata": {
        "id": "pnbs2AhHK2BD"
      },
      "execution_count": null,
      "outputs": []
    },
    {
      "cell_type": "markdown",
      "source": [
        "**sorting data and saving it in a new file**"
      ],
      "metadata": {
        "id": "hOpHEL7SECcR"
      }
    },
    {
      "cell_type": "code",
      "source": [
        "df_sorted = data_frame.sort_values(by=['taille seq', 'taille motif'])\n",
        "df_sorted.to_csv('sorted_output.csv', index=False)"
      ],
      "metadata": {
        "id": "IblilBIXDqO1"
      },
      "execution_count": null,
      "outputs": []
    },
    {
      "cell_type": "code",
      "source": [
        "\n",
        "unique_seq_sizes = [100,1000,10000,100000,1000000,10000000,50000000]\n",
        "\n",
        "# Iterate over unique motif sizes\n",
        "for motif_size in unique_seq_sizes:\n",
        "    filtered_df = df_sorted[df_sorted['taille seq'] == motif_size]\n",
        "    avg_execution_times_filtered = filtered_df.groupby('taille motif').agg({'exec BM (secs)': 'mean', 'exec naif (secs)': 'mean'})\n",
        "    fig, ax = plt.subplots()\n",
        "    ax.plot(avg_execution_times_filtered.index, avg_execution_times_filtered['exec BM (secs)'], label='Boyer-Moore')\n",
        "    ax.plot(avg_execution_times_filtered.index, avg_execution_times_filtered['exec naif (secs)'], label='Naive')\n",
        "    ax.set_xlabel('Taille motif')\n",
        "    ax.set_ylabel('Execution Time (secs)')\n",
        "    ax.set_title(f'seq Size: {motif_size}')\n",
        "    ax.legend()\n",
        "fig.show()"
      ],
      "metadata": {
        "colab": {
          "base_uri": "https://localhost:8080/",
          "height": 1000
        },
        "id": "ULwukhmQBgOU",
        "outputId": "3dbaa35f-451f-4fb0-ac77-801e4daca8cf"
      },
      "execution_count": null,
      "outputs": [
        {
          "output_type": "display_data",
          "data": {
            "text/plain": [
              "<Figure size 640x480 with 1 Axes>"
            ],
            "image/png": "[encoded data removed]"
          },
          "metadata": {}
        },
        {
          "output_type": "display_data",
          "data": {
            "text/plain": [
              "<Figure size 640x480 with 1 Axes>"
            ],
            "image/png": "[encoded data removed]"
          },
          "metadata": {}
        },
        {
          "output_type": "display_data",
          "data": {
            "text/plain": [
              "<Figure size 640x480 with 1 Axes>"
            ],
            "image/png": "[encoded data removed]"
          },
          "metadata": {}
        },
        {
          "output_type": "display_data",
          "data": {
            "text/plain": [
              "<Figure size 640x480 with 1 Axes>"
            ],
            "image/png": "[encoded data removed]"
          },
          "metadata": {}
        },
        {
          "output_type": "display_data",
          "data": {
            "text/plain": [
              "<Figure size 640x480 with 1 Axes>"
            ],
            "image/png": "[encoded data removed]"
          },
          "metadata": {}
        },
        {
          "output_type": "display_data",
          "data": {
            "text/plain": [
              "<Figure size 640x480 with 1 Axes>"
            ],
            "image/png": "[encoded data removed]"
          },
          "metadata": {}
        },
        {
          "output_type": "display_data",
          "data": {
            "text/plain": [
              "<Figure size 640x480 with 1 Axes>"
            ],
            "image/png": "[encoded data removed]"
          },
          "metadata": {}
        }
      ]
    },
    {
      "cell_type": "markdown",
      "source": [
        "On remarque que:\n",
        "- l'efficacité de Boyer-Moore diminue quand la taille du motif et proche a la taille de la sequence.\n",
        "- pour chaque taille de motif au debut boyer moore prend moin de temps que naif jusqu'a arriver a une taille qui est presque egale a celle du motif."
      ],
      "metadata": {
        "id": "rDk785ef4wc7"
      }
    },
    {
      "cell_type": "markdown",
      "source": [
        "## **RABIN-KARP** testing"
      ],
      "metadata": {
        "id": "SucE4kdoplca"
      }
    },
    {
      "cell_type": "code",
      "source": [
        "def get_first_value(dictionary):\n",
        "    # Renvoie la première valeur du dictionnaire\n",
        "    return next(iter(dictionary.values()))"
      ],
      "metadata": {
        "id": "uWg9mo9OtNSQ"
      },
      "execution_count": null,
      "outputs": []
    },
    {
      "cell_type": "code",
      "source": [
        "motif_lenghts=[5,10,100,1000,10000,100000,1000000,10000000]\n",
        "data_RK=[]"
      ],
      "metadata": {
        "id": "EQytt9ZFqD4e"
      },
      "execution_count": null,
      "outputs": []
    },
    {
      "cell_type": "code",
      "source": [
        "i=10000\n",
        "filename = f'dna_{i}.csv'\n",
        "b=10\n",
        "q=11\n",
        "sequences_generator = dna_sequence_generator(filename)\n",
        "for sequence in sequences_generator:\n",
        "  for v in motif_lenghts:\n",
        "    if v==i:\n",
        "      break\n",
        "    motif=generate_motif(sequence,v)\n",
        "\n",
        "    rk_start=time.time()\n",
        "    rk_res,rk_comp,rk_faux_pos=rabin_karp(sequence,[motif],b,q)\n",
        "    rk_end=time.time()\n",
        "    n_start=time.time()\n",
        "    n_res,n_comp=naive_search(sequence,motif)\n",
        "    n_end=time.time()\n",
        "\n",
        "    rk_execution=rk_end-rk_start\n",
        "    n_execution=n_end-n_start\n",
        "    pos=n_res\n",
        "    data={\n",
        "        'taille seq':i,\n",
        "        'taille motif':v,\n",
        "        'exec RK (secs)':rk_execution,\n",
        "        'exec naif (secs)':n_execution,\n",
        "        'comps RK':rk_comp,\n",
        "        'comps naif':n_comp,\n",
        "        'position':pos,\n",
        "        'faux positifs':rk_faux_pos\n",
        "\n",
        "    }\n",
        "    data_RK.append(data)\n",
        "data_frame_rk=pd.DataFrame(data_RK)\n",
        "data_frame_rk"
      ],
      "metadata": {
        "colab": {
          "base_uri": "https://localhost:8080/",
          "height": 423
        },
        "id": "W9JgzqA1p9lS",
        "outputId": "be490bf7-78ca-40db-a5c3-cac9b77818bc"
      },
      "execution_count": null,
      "outputs": [
        {
          "output_type": "execute_result",
          "data": {
            "text/plain": [
              "     taille seq  taille motif  exec RK (secs)  exec naif (secs)  comps RK  \\\n",
              "0            10             5        0.000069          0.000010         6   \n",
              "1            10             5        0.000041          0.000008         5   \n",
              "2            10             5        0.000043          0.000008         5   \n",
              "3            10             5        0.000041          0.000006         5   \n",
              "4            10             5        0.000044          0.000007         5   \n",
              "..          ...           ...             ...               ...       ...   \n",
              "188       10000          1000        0.115222          0.003076      2122   \n",
              "189       10000             5        0.019317          0.001295      1080   \n",
              "190       10000            10        0.022852          0.003588      1163   \n",
              "191       10000           100        0.029822          0.004131      1285   \n",
              "192       10000          1000        0.114817          0.005281      2166   \n",
              "\n",
              "     comps naif  position  faux positifs  \n",
              "0            11         4              1  \n",
              "1             7         2              0  \n",
              "2             6         1              0  \n",
              "3             6         1              0  \n",
              "4             8         2              0  \n",
              "..          ...       ...            ...  \n",
              "188        4158      2377            844  \n",
              "189        2185      1667            814  \n",
              "190        6042      4486            838  \n",
              "191        6887      5128            893  \n",
              "192        9226      6097            861  \n",
              "\n",
              "[193 rows x 8 columns]"
            ],
            "text/html": [
              "\n",
              "  <div id=\"df-3a58e9b3-a729-449d-82cb-fa5da019f6c0\" class=\"colab-df-container\">\n",
              "    <div>\n",
              "<style scoped>\n",
              "    .dataframe tbody tr th:only-of-type {\n",
              "        vertical-align: middle;\n",
              "    }\n",
              "\n",
              "    .dataframe tbody tr th {\n",
              "        vertical-align: top;\n",
              "    }\n",
              "\n",
              "    .dataframe thead th {\n",
              "        text-align: right;\n",
              "    }\n",
              "</style>\n",
              "<table border=\"1\" class=\"dataframe\">\n",
              "  <thead>\n",
              "    <tr style=\"text-align: right;\">\n",
              "      <th></th>\n",
              "      <th>taille seq</th>\n",
              "      <th>taille motif</th>\n",
              "      <th>exec RK (secs)</th>\n",
              "      <th>exec naif (secs)</th>\n",
              "      <th>comps RK</th>\n",
              "      <th>comps naif</th>\n",
              "      <th>position</th>\n",
              "      <th>faux positifs</th>\n",
              "    </tr>\n",
              "  </thead>\n",
              "  <tbody>\n",
              "    <tr>\n",
              "      <th>0</th>\n",
              "      <td>10</td>\n",
              "      <td>5</td>\n",
              "      <td>0.000069</td>\n",
              "      <td>0.000010</td>\n",
              "      <td>6</td>\n",
              "      <td>11</td>\n",
              "      <td>4</td>\n",
              "      <td>1</td>\n",
              "    </tr>\n",
              "    <tr>\n",
              "      <th>1</th>\n",
              "      <td>10</td>\n",
              "      <td>5</td>\n",
              "      <td>0.000041</td>\n",
              "      <td>0.000008</td>\n",
              "      <td>5</td>\n",
              "      <td>7</td>\n",
              "      <td>2</td>\n",
              "      <td>0</td>\n",
              "    </tr>\n",
              "    <tr>\n",
              "      <th>2</th>\n",
              "      <td>10</td>\n",
              "      <td>5</td>\n",
              "      <td>0.000043</td>\n",
              "      <td>0.000008</td>\n",
              "      <td>5</td>\n",
              "      <td>6</td>\n",
              "      <td>1</td>\n",
              "      <td>0</td>\n",
              "    </tr>\n",
              "    <tr>\n",
              "      <th>3</th>\n",
              "      <td>10</td>\n",
              "      <td>5</td>\n",
              "      <td>0.000041</td>\n",
              "      <td>0.000006</td>\n",
              "      <td>5</td>\n",
              "      <td>6</td>\n",
              "      <td>1</td>\n",
              "      <td>0</td>\n",
              "    </tr>\n",
              "    <tr>\n",
              "      <th>4</th>\n",
              "      <td>10</td>\n",
              "      <td>5</td>\n",
              "      <td>0.000044</td>\n",
              "      <td>0.000007</td>\n",
              "      <td>5</td>\n",
              "      <td>8</td>\n",
              "      <td>2</td>\n",
              "      <td>0</td>\n",
              "    </tr>\n",
              "    <tr>\n",
              "      <th>...</th>\n",
              "      <td>...</td>\n",
              "      <td>...</td>\n",
              "      <td>...</td>\n",
              "      <td>...</td>\n",
              "      <td>...</td>\n",
              "      <td>...</td>\n",
              "      <td>...</td>\n",
              "      <td>...</td>\n",
              "    </tr>\n",
              "    <tr>\n",
              "      <th>188</th>\n",
              "      <td>10000</td>\n",
              "      <td>1000</td>\n",
              "      <td>0.115222</td>\n",
              "      <td>0.003076</td>\n",
              "      <td>2122</td>\n",
              "      <td>4158</td>\n",
              "      <td>2377</td>\n",
              "      <td>844</td>\n",
              "    </tr>\n",
              "    <tr>\n",
              "      <th>189</th>\n",
              "      <td>10000</td>\n",
              "      <td>5</td>\n",
              "      <td>0.019317</td>\n",
              "      <td>0.001295</td>\n",
              "      <td>1080</td>\n",
              "      <td>2185</td>\n",
              "      <td>1667</td>\n",
              "      <td>814</td>\n",
              "    </tr>\n",
              "    <tr>\n",
              "      <th>190</th>\n",
              "      <td>10000</td>\n",
              "      <td>10</td>\n",
              "      <td>0.022852</td>\n",
              "      <td>0.003588</td>\n",
              "      <td>1163</td>\n",
              "      <td>6042</td>\n",
              "      <td>4486</td>\n",
              "      <td>838</td>\n",
              "    </tr>\n",
              "    <tr>\n",
              "      <th>191</th>\n",
              "      <td>10000</td>\n",
              "      <td>100</td>\n",
              "      <td>0.029822</td>\n",
              "      <td>0.004131</td>\n",
              "      <td>1285</td>\n",
              "      <td>6887</td>\n",
              "      <td>5128</td>\n",
              "      <td>893</td>\n",
              "    </tr>\n",
              "    <tr>\n",
              "      <th>192</th>\n",
              "      <td>10000</td>\n",
              "      <td>1000</td>\n",
              "      <td>0.114817</td>\n",
              "      <td>0.005281</td>\n",
              "      <td>2166</td>\n",
              "      <td>9226</td>\n",
              "      <td>6097</td>\n",
              "      <td>861</td>\n",
              "    </tr>\n",
              "  </tbody>\n",
              "</table>\n",
              "<p>193 rows × 8 columns</p>\n",
              "</div>\n",
              "    <div class=\"colab-df-buttons\">\n",
              "\n",
              "  <div class=\"colab-df-container\">\n",
              "    <button class=\"colab-df-convert\" onclick=\"convertToInteractive('df-3a58e9b3-a729-449d-82cb-fa5da019f6c0')\"\n",
              "            title=\"Convert this dataframe to an interactive table.\"\n",
              "            style=\"display:none;\">\n",
              "\n",
              "  <svg xmlns=\"http://www.w3.org/2000/svg\" height=\"24px\" viewBox=\"0 -960 960 960\">\n",
              "    <path d=\"M120-120v-720h720v720H120Zm60-500h600v-160H180v160Zm220 220h160v-160H400v160Zm0 220h160v-160H400v160ZM180-400h160v-160H180v160Zm440 0h160v-160H620v160ZM180-180h160v-160H180v160Zm440 0h160v-160H620v160Z\"/>\n",
              "  </svg>\n",
              "    </button>\n",
              "\n",
              "  <style>\n",
              "    .colab-df-container {\n",
              "      display:flex;\n",
              "      gap: 12px;\n",
              "    }\n",
              "\n",
              "    .colab-df-convert {\n",
              "      background-color: #E8F0FE;\n",
              "      border: none;\n",
              "      border-radius: 50%;\n",
              "      cursor: pointer;\n",
              "      display: none;\n",
              "      fill: #1967D2;\n",
              "      height: 32px;\n",
              "      padding: 0 0 0 0;\n",
              "      width: 32px;\n",
              "    }\n",
              "\n",
              "    .colab-df-convert:hover {\n",
              "      background-color: #E2EBFA;\n",
              "      box-shadow: 0px 1px 2px rgba(60, 64, 67, 0.3), 0px 1px 3px 1px rgba(60, 64, 67, 0.15);\n",
              "      fill: #174EA6;\n",
              "    }\n",
              "\n",
              "    .colab-df-buttons div {\n",
              "      margin-bottom: 4px;\n",
              "    }\n",
              "\n",
              "    [theme=dark] .colab-df-convert {\n",
              "      background-color: #3B4455;\n",
              "      fill: #D2E3FC;\n",
              "    }\n",
              "\n",
              "    [theme=dark] .colab-df-convert:hover {\n",
              "      background-color: #434B5C;\n",
              "      box-shadow: 0px 1px 3px 1px rgba(0, 0, 0, 0.15);\n",
              "      filter: drop-shadow(0px 1px 2px rgba(0, 0, 0, 0.3));\n",
              "      fill: #FFFFFF;\n",
              "    }\n",
              "  </style>\n",
              "\n",
              "    <script>\n",
              "      const buttonEl =\n",
              "        document.querySelector('#df-3a58e9b3-a729-449d-82cb-fa5da019f6c0 button.colab-df-convert');\n",
              "      buttonEl.style.display =\n",
              "        google.colab.kernel.accessAllowed ? 'block' : 'none';\n",
              "\n",
              "      async function convertToInteractive(key) {\n",
              "        const element = document.querySelector('#df-3a58e9b3-a729-449d-82cb-fa5da019f6c0');\n",
              "        const dataTable =\n",
              "          await google.colab.kernel.invokeFunction('convertToInteractive',\n",
              "                                                    [key], {});\n",
              "        if (!dataTable) return;\n",
              "\n",
              "        const docLinkHtml = 'Like what you see? Visit the ' +\n",
              "          '<a target=\"_blank\" href=https://colab.research.google.com/notebooks/data_table.ipynb>data table notebook</a>'\n",
              "          + ' to learn more about interactive tables.';\n",
              "        element.innerHTML = '';\n",
              "        dataTable['output_type'] = 'display_data';\n",
              "        await google.colab.output.renderOutput(dataTable, element);\n",
              "        const docLink = document.createElement('div');\n",
              "        docLink.innerHTML = docLinkHtml;\n",
              "        element.appendChild(docLink);\n",
              "      }\n",
              "    </script>\n",
              "  </div>\n",
              "\n",
              "\n",
              "<div id=\"df-48ad4c3e-c521-45f1-8657-c8ce5c57083e\">\n",
              "  <button class=\"colab-df-quickchart\" onclick=\"quickchart('df-48ad4c3e-c521-45f1-8657-c8ce5c57083e')\"\n",
              "            title=\"Suggest charts\"\n",
              "            style=\"display:none;\">\n",
              "\n",
              "<svg xmlns=\"http://www.w3.org/2000/svg\" height=\"24px\"viewBox=\"0 0 24 24\"\n",
              "     width=\"24px\">\n",
              "    <g>\n",
              "        <path d=\"M19 3H5c-1.1 0-2 .9-2 2v14c0 1.1.9 2 2 2h14c1.1 0 2-.9 2-2V5c0-1.1-.9-2-2-2zM9 17H7v-7h2v7zm4 0h-2V7h2v10zm4 0h-2v-4h2v4z\"/>\n",
              "    </g>\n",
              "</svg>\n",
              "  </button>\n",
              "\n",
              "<style>\n",
              "  .colab-df-quickchart {\n",
              "      --bg-color: #E8F0FE;\n",
              "      --fill-color: #1967D2;\n",
              "      --hover-bg-color: #E2EBFA;\n",
              "      --hover-fill-color: #174EA6;\n",
              "      --disabled-fill-color: #AAA;\n",
              "      --disabled-bg-color: #DDD;\n",
              "  }\n",
              "\n",
              "  [theme=dark] .colab-df-quickchart {\n",
              "      --bg-color: #3B4455;\n",
              "      --fill-color: #D2E3FC;\n",
              "      --hover-bg-color: #434B5C;\n",
              "      --hover-fill-color: #FFFFFF;\n",
              "      --disabled-bg-color: #3B4455;\n",
              "      --disabled-fill-color: #666;\n",
              "  }\n",
              "\n",
              "  .colab-df-quickchart {\n",
              "    background-color: var(--bg-color);\n",
              "    border: none;\n",
              "    border-radius: 50%;\n",
              "    cursor: pointer;\n",
              "    display: none;\n",
              "    fill: var(--fill-color);\n",
              "    height: 32px;\n",
              "    padding: 0;\n",
              "    width: 32px;\n",
              "  }\n",
              "\n",
              "  .colab-df-quickchart:hover {\n",
              "    background-color: var(--hover-bg-color);\n",
              "    box-shadow: 0 1px 2px rgba(60, 64, 67, 0.3), 0 1px 3px 1px rgba(60, 64, 67, 0.15);\n",
              "    fill: var(--button-hover-fill-color);\n",
              "  }\n",
              "\n",
              "  .colab-df-quickchart-complete:disabled,\n",
              "  .colab-df-quickchart-complete:disabled:hover {\n",
              "    background-color: var(--disabled-bg-color);\n",
              "    fill: var(--disabled-fill-color);\n",
              "    box-shadow: none;\n",
              "  }\n",
              "\n",
              "  .colab-df-spinner {\n",
              "    border: 2px solid var(--fill-color);\n",
              "    border-color: transparent;\n",
              "    border-bottom-color: var(--fill-color);\n",
              "    animation:\n",
              "      spin 1s steps(1) infinite;\n",
              "  }\n",
              "\n",
              "  @keyframes spin {\n",
              "    0% {\n",
              "      border-color: transparent;\n",
              "      border-bottom-color: var(--fill-color);\n",
              "      border-left-color: var(--fill-color);\n",
              "    }\n",
              "    20% {\n",
              "      border-color: transparent;\n",
              "      border-left-color: var(--fill-color);\n",
              "      border-top-color: var(--fill-color);\n",
              "    }\n",
              "    30% {\n",
              "      border-color: transparent;\n",
              "      border-left-color: var(--fill-color);\n",
              "      border-top-color: var(--fill-color);\n",
              "      border-right-color: var(--fill-color);\n",
              "    }\n",
              "    40% {\n",
              "      border-color: transparent;\n",
              "      border-right-color: var(--fill-color);\n",
              "      border-top-color: var(--fill-color);\n",
              "    }\n",
              "    60% {\n",
              "      border-color: transparent;\n",
              "      border-right-color: var(--fill-color);\n",
              "    }\n",
              "    80% {\n",
              "      border-color: transparent;\n",
              "      border-right-color: var(--fill-color);\n",
              "      border-bottom-color: var(--fill-color);\n",
              "    }\n",
              "    90% {\n",
              "      border-color: transparent;\n",
              "      border-bottom-color: var(--fill-color);\n",
              "    }\n",
              "  }\n",
              "</style>\n",
              "\n",
              "  <script>\n",
              "    async function quickchart(key) {\n",
              "      const quickchartButtonEl =\n",
              "        document.querySelector('#' + key + ' button');\n",
              "      quickchartButtonEl.disabled = true;  // To prevent multiple clicks.\n",
              "      quickchartButtonEl.classList.add('colab-df-spinner');\n",
              "      try {\n",
              "        const charts = await google.colab.kernel.invokeFunction(\n",
              "            'suggestCharts', [key], {});\n",
              "      } catch (error) {\n",
              "        console.error('Error during call to suggestCharts:', error);\n",
              "      }\n",
              "      quickchartButtonEl.classList.remove('colab-df-spinner');\n",
              "      quickchartButtonEl.classList.add('colab-df-quickchart-complete');\n",
              "    }\n",
              "    (() => {\n",
              "      let quickchartButtonEl =\n",
              "        document.querySelector('#df-48ad4c3e-c521-45f1-8657-c8ce5c57083e button');\n",
              "      quickchartButtonEl.style.display =\n",
              "        google.colab.kernel.accessAllowed ? 'block' : 'none';\n",
              "    })();\n",
              "  </script>\n",
              "</div>\n",
              "\n",
              "  <div id=\"id_2e890137-ab92-4ad2-9d48-84700b71c7b0\">\n",
              "    <style>\n",
              "      .colab-df-generate {\n",
              "        background-color: #E8F0FE;\n",
              "        border: none;\n",
              "        border-radius: 50%;\n",
              "        cursor: pointer;\n",
              "        display: none;\n",
              "        fill: #1967D2;\n",
              "        height: 32px;\n",
              "        padding: 0 0 0 0;\n",
              "        width: 32px;\n",
              "      }\n",
              "\n",
              "      .colab-df-generate:hover {\n",
              "        background-color: #E2EBFA;\n",
              "        box-shadow: 0px 1px 2px rgba(60, 64, 67, 0.3), 0px 1px 3px 1px rgba(60, 64, 67, 0.15);\n",
              "        fill: #174EA6;\n",
              "      }\n",
              "\n",
              "      [theme=dark] .colab-df-generate {\n",
              "        background-color: #3B4455;\n",
              "        fill: #D2E3FC;\n",
              "      }\n",
              "\n",
              "      [theme=dark] .colab-df-generate:hover {\n",
              "        background-color: #434B5C;\n",
              "        box-shadow: 0px 1px 3px 1px rgba(0, 0, 0, 0.15);\n",
              "        filter: drop-shadow(0px 1px 2px rgba(0, 0, 0, 0.3));\n",
              "        fill: #FFFFFF;\n",
              "      }\n",
              "    </style>\n",
              "    <button class=\"colab-df-generate\" onclick=\"generateWithVariable('data_frame_rk')\"\n",
              "            title=\"Generate code using this dataframe.\"\n",
              "            style=\"display:none;\">\n",
              "\n",
              "  <svg xmlns=\"http://www.w3.org/2000/svg\" height=\"24px\"viewBox=\"0 0 24 24\"\n",
              "       width=\"24px\">\n",
              "    <path d=\"M7,19H8.4L18.45,9,17,7.55,7,17.6ZM5,21V16.75L18.45,3.32a2,2,0,0,1,2.83,0l1.4,1.43a1.91,1.91,0,0,1,.58,1.4,1.91,1.91,0,0,1-.58,1.4L9.25,21ZM18.45,9,17,7.55Zm-12,3A5.31,5.31,0,0,0,4.9,8.1,5.31,5.31,0,0,0,1,6.5,5.31,5.31,0,0,0,4.9,4.9,5.31,5.31,0,0,0,6.5,1,5.31,5.31,0,0,0,8.1,4.9,5.31,5.31,0,0,0,12,6.5,5.46,5.46,0,0,0,6.5,12Z\"/>\n",
              "  </svg>\n",
              "    </button>\n",
              "    <script>\n",
              "      (() => {\n",
              "      const buttonEl =\n",
              "        document.querySelector('#id_2e890137-ab92-4ad2-9d48-84700b71c7b0 button.colab-df-generate');\n",
              "      buttonEl.style.display =\n",
              "        google.colab.kernel.accessAllowed ? 'block' : 'none';\n",
              "\n",
              "      buttonEl.onclick = () => {\n",
              "        google.colab.notebook.generateWithVariable('data_frame_rk');\n",
              "      }\n",
              "      })();\n",
              "    </script>\n",
              "  </div>\n",
              "\n",
              "    </div>\n",
              "  </div>\n"
            ],
            "application/vnd.google.colaboratory.intrinsic+json": {
              "type": "dataframe",
              "variable_name": "data_frame_rk",
              "summary": "{\n  \"name\": \"data_frame_rk\",\n  \"rows\": 193,\n  \"fields\": [\n    {\n      \"column\": \"taille seq\",\n      \"properties\": {\n        \"dtype\": \"number\",\n        \"std\": 42278,\n        \"min\": 10,\n        \"max\": 100000,\n        \"num_unique_values\": 5,\n        \"samples\": [\n          100,\n          100000,\n          1000\n        ],\n        \"semantic_type\": \"\",\n        \"description\": \"\"\n      }\n    },\n    {\n      \"column\": \"taille motif\",\n      \"properties\": {\n        \"dtype\": \"number\",\n        \"std\": 2103,\n        \"min\": 5,\n        \"max\": 10000,\n        \"num_unique_values\": 5,\n        \"samples\": [\n          10,\n          10000,\n          100\n        ],\n        \"semantic_type\": \"\",\n        \"description\": \"\"\n      }\n    },\n    {\n      \"column\": \"exec RK (secs)\",\n      \"properties\": {\n        \"dtype\": \"number\",\n        \"std\": 4.709827212873223,\n        \"min\": 4.029273986816406e-05,\n        \"max\": 27.65362238883972,\n        \"num_unique_values\": 190,\n        \"samples\": [\n          0.022296905517578125,\n          0.031416893005371094,\n          22.71945285797119\n        ],\n        \"semantic_type\": \"\",\n        \"description\": \"\"\n      }\n    },\n    {\n      \"column\": \"exec naif (secs)\",\n      \"properties\": {\n        \"dtype\": \"number\",\n        \"std\": 0.015080194391346847,\n        \"min\": 6.198883056640625e-06,\n        \"max\": 0.07381391525268555,\n        \"num_unique_values\": 190,\n        \"samples\": [\n          0.002196788787841797,\n          0.00577235221862793,\n          0.02504110336303711\n        ],\n        \"semantic_type\": \"\",\n        \"description\": \"\"\n      }\n    },\n    {\n      \"column\": \"comps RK\",\n      \"properties\": {\n        \"dtype\": \"number\",\n        \"std\": 6160,\n        \"min\": 5,\n        \"max\": 21057,\n        \"num_unique_values\": 171,\n        \"samples\": [\n          12032,\n          1274,\n          2102\n        ],\n        \"semantic_type\": \"\",\n        \"description\": \"\"\n      }\n    },\n    {\n      \"column\": \"comps naif\",\n      \"properties\": {\n        \"dtype\": \"number\",\n        \"std\": 32638,\n        \"min\": 5,\n        \"max\": 132169,\n        \"num_unique_values\": 186,\n        \"samples\": [\n          2294,\n          11468,\n          2325\n        ],\n        \"semantic_type\": \"\",\n        \"description\": \"\"\n      }\n    },\n    {\n      \"column\": \"position\",\n      \"properties\": {\n        \"dtype\": \"number\",\n        \"std\": 23904,\n        \"min\": 0,\n        \"max\": 98251,\n        \"num_unique_values\": 176,\n        \"samples\": [\n          33,\n          882,\n          7022\n        ],\n        \"semantic_type\": \"\",\n        \"description\": \"\"\n      }\n    },\n    {\n      \"column\": \"faux positifs\",\n      \"properties\": {\n        \"dtype\": \"number\",\n        \"std\": 3831,\n        \"min\": 0,\n        \"max\": 10795,\n        \"num_unique_values\": 155,\n        \"samples\": [\n          9117,\n          1095,\n          80\n        ],\n        \"semantic_type\": \"\",\n        \"description\": \"\"\n      }\n    }\n  ]\n}"
            }
          },
          "metadata": {},
          "execution_count": 206
        }
      ]
    },
    {
      "cell_type": "code",
      "source": [
        "data_frame_rk"
      ],
      "metadata": {
        "colab": {
          "base_uri": "https://localhost:8080/",
          "height": 423
        },
        "id": "t7VN9_etvmhy",
        "outputId": "a6080cda-4d1c-4559-a5a6-0cffd196da25"
      },
      "execution_count": null,
      "outputs": [
        {
          "output_type": "execute_result",
          "data": {
            "text/plain": [
              "     taille seq  taille motif  exec RK (secs)  exec naif (secs)  comps RK  \\\n",
              "0            10             5        0.000069          0.000010         6   \n",
              "1            10             5        0.000041          0.000008         5   \n",
              "2            10             5        0.000043          0.000008         5   \n",
              "3            10             5        0.000041          0.000006         5   \n",
              "4            10             5        0.000044          0.000007         5   \n",
              "..          ...           ...             ...               ...       ...   \n",
              "188       10000          1000        0.115222          0.003076      2122   \n",
              "189       10000             5        0.019317          0.001295      1080   \n",
              "190       10000            10        0.022852          0.003588      1163   \n",
              "191       10000           100        0.029822          0.004131      1285   \n",
              "192       10000          1000        0.114817          0.005281      2166   \n",
              "\n",
              "     comps naif  position  faux positifs  \n",
              "0            11         4              1  \n",
              "1             7         2              0  \n",
              "2             6         1              0  \n",
              "3             6         1              0  \n",
              "4             8         2              0  \n",
              "..          ...       ...            ...  \n",
              "188        4158      2377            844  \n",
              "189        2185      1667            814  \n",
              "190        6042      4486            838  \n",
              "191        6887      5128            893  \n",
              "192        9226      6097            861  \n",
              "\n",
              "[193 rows x 8 columns]"
            ],
            "text/html": [
              "\n",
              "  <div id=\"df-9526d497-ea33-4883-befc-7dfb0dfdb92e\" class=\"colab-df-container\">\n",
              "    <div>\n",
              "<style scoped>\n",
              "    .dataframe tbody tr th:only-of-type {\n",
              "        vertical-align: middle;\n",
              "    }\n",
              "\n",
              "    .dataframe tbody tr th {\n",
              "        vertical-align: top;\n",
              "    }\n",
              "\n",
              "    .dataframe thead th {\n",
              "        text-align: right;\n",
              "    }\n",
              "</style>\n",
              "<table border=\"1\" class=\"dataframe\">\n",
              "  <thead>\n",
              "    <tr style=\"text-align: right;\">\n",
              "      <th></th>\n",
              "      <th>taille seq</th>\n",
              "      <th>taille motif</th>\n",
              "      <th>exec RK (secs)</th>\n",
              "      <th>exec naif (secs)</th>\n",
              "      <th>comps RK</th>\n",
              "      <th>comps naif</th>\n",
              "      <th>position</th>\n",
              "      <th>faux positifs</th>\n",
              "    </tr>\n",
              "  </thead>\n",
              "  <tbody>\n",
              "    <tr>\n",
              "      <th>0</th>\n",
              "      <td>10</td>\n",
              "      <td>5</td>\n",
              "      <td>0.000069</td>\n",
              "      <td>0.000010</td>\n",
              "      <td>6</td>\n",
              "      <td>11</td>\n",
              "      <td>4</td>\n",
              "      <td>1</td>\n",
              "    </tr>\n",
              "    <tr>\n",
              "      <th>1</th>\n",
              "      <td>10</td>\n",
              "      <td>5</td>\n",
              "      <td>0.000041</td>\n",
              "      <td>0.000008</td>\n",
              "      <td>5</td>\n",
              "      <td>7</td>\n",
              "      <td>2</td>\n",
              "      <td>0</td>\n",
              "    </tr>\n",
              "    <tr>\n",
              "      <th>2</th>\n",
              "      <td>10</td>\n",
              "      <td>5</td>\n",
              "      <td>0.000043</td>\n",
              "      <td>0.000008</td>\n",
              "      <td>5</td>\n",
              "      <td>6</td>\n",
              "      <td>1</td>\n",
              "      <td>0</td>\n",
              "    </tr>\n",
              "    <tr>\n",
              "      <th>3</th>\n",
              "      <td>10</td>\n",
              "      <td>5</td>\n",
              "      <td>0.000041</td>\n",
              "      <td>0.000006</td>\n",
              "      <td>5</td>\n",
              "      <td>6</td>\n",
              "      <td>1</td>\n",
              "      <td>0</td>\n",
              "    </tr>\n",
              "    <tr>\n",
              "      <th>4</th>\n",
              "      <td>10</td>\n",
              "      <td>5</td>\n",
              "      <td>0.000044</td>\n",
              "      <td>0.000007</td>\n",
              "      <td>5</td>\n",
              "      <td>8</td>\n",
              "      <td>2</td>\n",
              "      <td>0</td>\n",
              "    </tr>\n",
              "    <tr>\n",
              "      <th>...</th>\n",
              "      <td>...</td>\n",
              "      <td>...</td>\n",
              "      <td>...</td>\n",
              "      <td>...</td>\n",
              "      <td>...</td>\n",
              "      <td>...</td>\n",
              "      <td>...</td>\n",
              "      <td>...</td>\n",
              "    </tr>\n",
              "    <tr>\n",
              "      <th>188</th>\n",
              "      <td>10000</td>\n",
              "      <td>1000</td>\n",
              "      <td>0.115222</td>\n",
              "      <td>0.003076</td>\n",
              "      <td>2122</td>\n",
              "      <td>4158</td>\n",
              "      <td>2377</td>\n",
              "      <td>844</td>\n",
              "    </tr>\n",
              "    <tr>\n",
              "      <th>189</th>\n",
              "      <td>10000</td>\n",
              "      <td>5</td>\n",
              "      <td>0.019317</td>\n",
              "      <td>0.001295</td>\n",
              "      <td>1080</td>\n",
              "      <td>2185</td>\n",
              "      <td>1667</td>\n",
              "      <td>814</td>\n",
              "    </tr>\n",
              "    <tr>\n",
              "      <th>190</th>\n",
              "      <td>10000</td>\n",
              "      <td>10</td>\n",
              "      <td>0.022852</td>\n",
              "      <td>0.003588</td>\n",
              "      <td>1163</td>\n",
              "      <td>6042</td>\n",
              "      <td>4486</td>\n",
              "      <td>838</td>\n",
              "    </tr>\n",
              "    <tr>\n",
              "      <th>191</th>\n",
              "      <td>10000</td>\n",
              "      <td>100</td>\n",
              "      <td>0.029822</td>\n",
              "      <td>0.004131</td>\n",
              "      <td>1285</td>\n",
              "      <td>6887</td>\n",
              "      <td>5128</td>\n",
              "      <td>893</td>\n",
              "    </tr>\n",
              "    <tr>\n",
              "      <th>192</th>\n",
              "      <td>10000</td>\n",
              "      <td>1000</td>\n",
              "      <td>0.114817</td>\n",
              "      <td>0.005281</td>\n",
              "      <td>2166</td>\n",
              "      <td>9226</td>\n",
              "      <td>6097</td>\n",
              "      <td>861</td>\n",
              "    </tr>\n",
              "  </tbody>\n",
              "</table>\n",
              "<p>193 rows × 8 columns</p>\n",
              "</div>\n",
              "    <div class=\"colab-df-buttons\">\n",
              "\n",
              "  <div class=\"colab-df-container\">\n",
              "    <button class=\"colab-df-convert\" onclick=\"convertToInteractive('df-9526d497-ea33-4883-befc-7dfb0dfdb92e')\"\n",
              "            title=\"Convert this dataframe to an interactive table.\"\n",
              "            style=\"display:none;\">\n",
              "\n",
              "  <svg xmlns=\"http://www.w3.org/2000/svg\" height=\"24px\" viewBox=\"0 -960 960 960\">\n",
              "    <path d=\"M120-120v-720h720v720H120Zm60-500h600v-160H180v160Zm220 220h160v-160H400v160Zm0 220h160v-160H400v160ZM180-400h160v-160H180v160Zm440 0h160v-160H620v160ZM180-180h160v-160H180v160Zm440 0h160v-160H620v160Z\"/>\n",
              "  </svg>\n",
              "    </button>\n",
              "\n",
              "  <style>\n",
              "    .colab-df-container {\n",
              "      display:flex;\n",
              "      gap: 12px;\n",
              "    }\n",
              "\n",
              "    .colab-df-convert {\n",
              "      background-color: #E8F0FE;\n",
              "      border: none;\n",
              "      border-radius: 50%;\n",
              "      cursor: pointer;\n",
              "      display: none;\n",
              "      fill: #1967D2;\n",
              "      height: 32px;\n",
              "      padding: 0 0 0 0;\n",
              "      width: 32px;\n",
              "    }\n",
              "\n",
              "    .colab-df-convert:hover {\n",
              "      background-color: #E2EBFA;\n",
              "      box-shadow: 0px 1px 2px rgba(60, 64, 67, 0.3), 0px 1px 3px 1px rgba(60, 64, 67, 0.15);\n",
              "      fill: #174EA6;\n",
              "    }\n",
              "\n",
              "    .colab-df-buttons div {\n",
              "      margin-bottom: 4px;\n",
              "    }\n",
              "\n",
              "    [theme=dark] .colab-df-convert {\n",
              "      background-color: #3B4455;\n",
              "      fill: #D2E3FC;\n",
              "    }\n",
              "\n",
              "    [theme=dark] .colab-df-convert:hover {\n",
              "      background-color: #434B5C;\n",
              "      box-shadow: 0px 1px 3px 1px rgba(0, 0, 0, 0.15);\n",
              "      filter: drop-shadow(0px 1px 2px rgba(0, 0, 0, 0.3));\n",
              "      fill: #FFFFFF;\n",
              "    }\n",
              "  </style>\n",
              "\n",
              "    <script>\n",
              "      const buttonEl =\n",
              "        document.querySelector('#df-9526d497-ea33-4883-befc-7dfb0dfdb92e button.colab-df-convert');\n",
              "      buttonEl.style.display =\n",
              "        google.colab.kernel.accessAllowed ? 'block' : 'none';\n",
              "\n",
              "      async function convertToInteractive(key) {\n",
              "        const element = document.querySelector('#df-9526d497-ea33-4883-befc-7dfb0dfdb92e');\n",
              "        const dataTable =\n",
              "          await google.colab.kernel.invokeFunction('convertToInteractive',\n",
              "                                                    [key], {});\n",
              "        if (!dataTable) return;\n",
              "\n",
              "        const docLinkHtml = 'Like what you see? Visit the ' +\n",
              "          '<a target=\"_blank\" href=https://colab.research.google.com/notebooks/data_table.ipynb>data table notebook</a>'\n",
              "          + ' to learn more about interactive tables.';\n",
              "        element.innerHTML = '';\n",
              "        dataTable['output_type'] = 'display_data';\n",
              "        await google.colab.output.renderOutput(dataTable, element);\n",
              "        const docLink = document.createElement('div');\n",
              "        docLink.innerHTML = docLinkHtml;\n",
              "        element.appendChild(docLink);\n",
              "      }\n",
              "    </script>\n",
              "  </div>\n",
              "\n",
              "\n",
              "<div id=\"df-aab6c3c5-c464-4f6e-8f59-cd450d26a7ac\">\n",
              "  <button class=\"colab-df-quickchart\" onclick=\"quickchart('df-aab6c3c5-c464-4f6e-8f59-cd450d26a7ac')\"\n",
              "            title=\"Suggest charts\"\n",
              "            style=\"display:none;\">\n",
              "\n",
              "<svg xmlns=\"http://www.w3.org/2000/svg\" height=\"24px\"viewBox=\"0 0 24 24\"\n",
              "     width=\"24px\">\n",
              "    <g>\n",
              "        <path d=\"M19 3H5c-1.1 0-2 .9-2 2v14c0 1.1.9 2 2 2h14c1.1 0 2-.9 2-2V5c0-1.1-.9-2-2-2zM9 17H7v-7h2v7zm4 0h-2V7h2v10zm4 0h-2v-4h2v4z\"/>\n",
              "    </g>\n",
              "</svg>\n",
              "  </button>\n",
              "\n",
              "<style>\n",
              "  .colab-df-quickchart {\n",
              "      --bg-color: #E8F0FE;\n",
              "      --fill-color: #1967D2;\n",
              "      --hover-bg-color: #E2EBFA;\n",
              "      --hover-fill-color: #174EA6;\n",
              "      --disabled-fill-color: #AAA;\n",
              "      --disabled-bg-color: #DDD;\n",
              "  }\n",
              "\n",
              "  [theme=dark] .colab-df-quickchart {\n",
              "      --bg-color: #3B4455;\n",
              "      --fill-color: #D2E3FC;\n",
              "      --hover-bg-color: #434B5C;\n",
              "      --hover-fill-color: #FFFFFF;\n",
              "      --disabled-bg-color: #3B4455;\n",
              "      --disabled-fill-color: #666;\n",
              "  }\n",
              "\n",
              "  .colab-df-quickchart {\n",
              "    background-color: var(--bg-color);\n",
              "    border: none;\n",
              "    border-radius: 50%;\n",
              "    cursor: pointer;\n",
              "    display: none;\n",
              "    fill: var(--fill-color);\n",
              "    height: 32px;\n",
              "    padding: 0;\n",
              "    width: 32px;\n",
              "  }\n",
              "\n",
              "  .colab-df-quickchart:hover {\n",
              "    background-color: var(--hover-bg-color);\n",
              "    box-shadow: 0 1px 2px rgba(60, 64, 67, 0.3), 0 1px 3px 1px rgba(60, 64, 67, 0.15);\n",
              "    fill: var(--button-hover-fill-color);\n",
              "  }\n",
              "\n",
              "  .colab-df-quickchart-complete:disabled,\n",
              "  .colab-df-quickchart-complete:disabled:hover {\n",
              "    background-color: var(--disabled-bg-color);\n",
              "    fill: var(--disabled-fill-color);\n",
              "    box-shadow: none;\n",
              "  }\n",
              "\n",
              "  .colab-df-spinner {\n",
              "    border: 2px solid var(--fill-color);\n",
              "    border-color: transparent;\n",
              "    border-bottom-color: var(--fill-color);\n",
              "    animation:\n",
              "      spin 1s steps(1) infinite;\n",
              "  }\n",
              "\n",
              "  @keyframes spin {\n",
              "    0% {\n",
              "      border-color: transparent;\n",
              "      border-bottom-color: var(--fill-color);\n",
              "      border-left-color: var(--fill-color);\n",
              "    }\n",
              "    20% {\n",
              "      border-color: transparent;\n",
              "      border-left-color: var(--fill-color);\n",
              "      border-top-color: var(--fill-color);\n",
              "    }\n",
              "    30% {\n",
              "      border-color: transparent;\n",
              "      border-left-color: var(--fill-color);\n",
              "      border-top-color: var(--fill-color);\n",
              "      border-right-color: var(--fill-color);\n",
              "    }\n",
              "    40% {\n",
              "      border-color: transparent;\n",
              "      border-right-color: var(--fill-color);\n",
              "      border-top-color: var(--fill-color);\n",
              "    }\n",
              "    60% {\n",
              "      border-color: transparent;\n",
              "      border-right-color: var(--fill-color);\n",
              "    }\n",
              "    80% {\n",
              "      border-color: transparent;\n",
              "      border-right-color: var(--fill-color);\n",
              "      border-bottom-color: var(--fill-color);\n",
              "    }\n",
              "    90% {\n",
              "      border-color: transparent;\n",
              "      border-bottom-color: var(--fill-color);\n",
              "    }\n",
              "  }\n",
              "</style>\n",
              "\n",
              "  <script>\n",
              "    async function quickchart(key) {\n",
              "      const quickchartButtonEl =\n",
              "        document.querySelector('#' + key + ' button');\n",
              "      quickchartButtonEl.disabled = true;  // To prevent multiple clicks.\n",
              "      quickchartButtonEl.classList.add('colab-df-spinner');\n",
              "      try {\n",
              "        const charts = await google.colab.kernel.invokeFunction(\n",
              "            'suggestCharts', [key], {});\n",
              "      } catch (error) {\n",
              "        console.error('Error during call to suggestCharts:', error);\n",
              "      }\n",
              "      quickchartButtonEl.classList.remove('colab-df-spinner');\n",
              "      quickchartButtonEl.classList.add('colab-df-quickchart-complete');\n",
              "    }\n",
              "    (() => {\n",
              "      let quickchartButtonEl =\n",
              "        document.querySelector('#df-aab6c3c5-c464-4f6e-8f59-cd450d26a7ac button');\n",
              "      quickchartButtonEl.style.display =\n",
              "        google.colab.kernel.accessAllowed ? 'block' : 'none';\n",
              "    })();\n",
              "  </script>\n",
              "</div>\n",
              "\n",
              "  <div id=\"id_49b31bb9-9b50-4388-b39c-44b540a4d10b\">\n",
              "    <style>\n",
              "      .colab-df-generate {\n",
              "        background-color: #E8F0FE;\n",
              "        border: none;\n",
              "        border-radius: 50%;\n",
              "        cursor: pointer;\n",
              "        display: none;\n",
              "        fill: #1967D2;\n",
              "        height: 32px;\n",
              "        padding: 0 0 0 0;\n",
              "        width: 32px;\n",
              "      }\n",
              "\n",
              "      .colab-df-generate:hover {\n",
              "        background-color: #E2EBFA;\n",
              "        box-shadow: 0px 1px 2px rgba(60, 64, 67, 0.3), 0px 1px 3px 1px rgba(60, 64, 67, 0.15);\n",
              "        fill: #174EA6;\n",
              "      }\n",
              "\n",
              "      [theme=dark] .colab-df-generate {\n",
              "        background-color: #3B4455;\n",
              "        fill: #D2E3FC;\n",
              "      }\n",
              "\n",
              "      [theme=dark] .colab-df-generate:hover {\n",
              "        background-color: #434B5C;\n",
              "        box-shadow: 0px 1px 3px 1px rgba(0, 0, 0, 0.15);\n",
              "        filter: drop-shadow(0px 1px 2px rgba(0, 0, 0, 0.3));\n",
              "        fill: #FFFFFF;\n",
              "      }\n",
              "    </style>\n",
              "    <button class=\"colab-df-generate\" onclick=\"generateWithVariable('data_frame_rk')\"\n",
              "            title=\"Generate code using this dataframe.\"\n",
              "            style=\"display:none;\">\n",
              "\n",
              "  <svg xmlns=\"http://www.w3.org/2000/svg\" height=\"24px\"viewBox=\"0 0 24 24\"\n",
              "       width=\"24px\">\n",
              "    <path d=\"M7,19H8.4L18.45,9,17,7.55,7,17.6ZM5,21V16.75L18.45,3.32a2,2,0,0,1,2.83,0l1.4,1.43a1.91,1.91,0,0,1,.58,1.4,1.91,1.91,0,0,1-.58,1.4L9.25,21ZM18.45,9,17,7.55Zm-12,3A5.31,5.31,0,0,0,4.9,8.1,5.31,5.31,0,0,0,1,6.5,5.31,5.31,0,0,0,4.9,4.9,5.31,5.31,0,0,0,6.5,1,5.31,5.31,0,0,0,8.1,4.9,5.31,5.31,0,0,0,12,6.5,5.46,5.46,0,0,0,6.5,12Z\"/>\n",
              "  </svg>\n",
              "    </button>\n",
              "    <script>\n",
              "      (() => {\n",
              "      const buttonEl =\n",
              "        document.querySelector('#id_49b31bb9-9b50-4388-b39c-44b540a4d10b button.colab-df-generate');\n",
              "      buttonEl.style.display =\n",
              "        google.colab.kernel.accessAllowed ? 'block' : 'none';\n",
              "\n",
              "      buttonEl.onclick = () => {\n",
              "        google.colab.notebook.generateWithVariable('data_frame_rk');\n",
              "      }\n",
              "      })();\n",
              "    </script>\n",
              "  </div>\n",
              "\n",
              "    </div>\n",
              "  </div>\n"
            ],
            "application/vnd.google.colaboratory.intrinsic+json": {
              "type": "dataframe",
              "variable_name": "data_frame_rk",
              "summary": "{\n  \"name\": \"data_frame_rk\",\n  \"rows\": 193,\n  \"fields\": [\n    {\n      \"column\": \"taille seq\",\n      \"properties\": {\n        \"dtype\": \"number\",\n        \"std\": 42278,\n        \"min\": 10,\n        \"max\": 100000,\n        \"num_unique_values\": 5,\n        \"samples\": [\n          100,\n          100000,\n          1000\n        ],\n        \"semantic_type\": \"\",\n        \"description\": \"\"\n      }\n    },\n    {\n      \"column\": \"taille motif\",\n      \"properties\": {\n        \"dtype\": \"number\",\n        \"std\": 2103,\n        \"min\": 5,\n        \"max\": 10000,\n        \"num_unique_values\": 5,\n        \"samples\": [\n          10,\n          10000,\n          100\n        ],\n        \"semantic_type\": \"\",\n        \"description\": \"\"\n      }\n    },\n    {\n      \"column\": \"exec RK (secs)\",\n      \"properties\": {\n        \"dtype\": \"number\",\n        \"std\": 4.709827212873223,\n        \"min\": 4.029273986816406e-05,\n        \"max\": 27.65362238883972,\n        \"num_unique_values\": 190,\n        \"samples\": [\n          0.022296905517578125,\n          0.031416893005371094,\n          22.71945285797119\n        ],\n        \"semantic_type\": \"\",\n        \"description\": \"\"\n      }\n    },\n    {\n      \"column\": \"exec naif (secs)\",\n      \"properties\": {\n        \"dtype\": \"number\",\n        \"std\": 0.015080194391346847,\n        \"min\": 6.198883056640625e-06,\n        \"max\": 0.07381391525268555,\n        \"num_unique_values\": 190,\n        \"samples\": [\n          0.002196788787841797,\n          0.00577235221862793,\n          0.02504110336303711\n        ],\n        \"semantic_type\": \"\",\n        \"description\": \"\"\n      }\n    },\n    {\n      \"column\": \"comps RK\",\n      \"properties\": {\n        \"dtype\": \"number\",\n        \"std\": 6160,\n        \"min\": 5,\n        \"max\": 21057,\n        \"num_unique_values\": 171,\n        \"samples\": [\n          12032,\n          1274,\n          2102\n        ],\n        \"semantic_type\": \"\",\n        \"description\": \"\"\n      }\n    },\n    {\n      \"column\": \"comps naif\",\n      \"properties\": {\n        \"dtype\": \"number\",\n        \"std\": 32638,\n        \"min\": 5,\n        \"max\": 132169,\n        \"num_unique_values\": 186,\n        \"samples\": [\n          2294,\n          11468,\n          2325\n        ],\n        \"semantic_type\": \"\",\n        \"description\": \"\"\n      }\n    },\n    {\n      \"column\": \"position\",\n      \"properties\": {\n        \"dtype\": \"number\",\n        \"std\": 23904,\n        \"min\": 0,\n        \"max\": 98251,\n        \"num_unique_values\": 176,\n        \"samples\": [\n          33,\n          882,\n          7022\n        ],\n        \"semantic_type\": \"\",\n        \"description\": \"\"\n      }\n    },\n    {\n      \"column\": \"faux positifs\",\n      \"properties\": {\n        \"dtype\": \"number\",\n        \"std\": 3831,\n        \"min\": 0,\n        \"max\": 10795,\n        \"num_unique_values\": 155,\n        \"samples\": [\n          9117,\n          1095,\n          80\n        ],\n        \"semantic_type\": \"\",\n        \"description\": \"\"\n      }\n    }\n  ]\n}"
            }
          },
          "metadata": {},
          "execution_count": 207
        }
      ]
    },
    {
      "cell_type": "markdown",
      "source": [
        "on remarque que:\n",
        "- les faux positif augmente avec l'augmentation de la taille des sequences\n",
        "- le nombre de comparaison de rabin-karp est toujours inferieur au nombre de comparaisons faitent par l'algo naif"
      ],
      "metadata": {
        "id": "-1hDS89u5TW3"
      }
    },
    {
      "cell_type": "code",
      "source": [
        "data_frame_rk.to_csv('output_rk.csv', index=False)"
      ],
      "metadata": {
        "id": "8K2xusSgwmrq"
      },
      "execution_count": null,
      "outputs": []
    }
  ]
}